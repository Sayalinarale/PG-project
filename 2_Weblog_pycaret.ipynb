{
 "cells": [
  {
   "cell_type": "code",
   "execution_count": 1,
   "id": "e68a1db2",
   "metadata": {
    "execution": {
     "iopub.execute_input": "2023-03-01T17:40:04.749692Z",
     "iopub.status.busy": "2023-03-01T17:40:04.749065Z",
     "iopub.status.idle": "2023-03-01T17:40:04.755312Z",
     "shell.execute_reply": "2023-03-01T17:40:04.754098Z",
     "shell.execute_reply.started": "2023-03-01T17:40:04.749654Z"
    },
    "tags": []
   },
   "outputs": [],
   "source": [
    "import pandas as pd"
   ]
  },
  {
   "cell_type": "code",
   "execution_count": 2,
   "id": "5184cba1",
   "metadata": {
    "execution": {
     "iopub.execute_input": "2023-03-01T17:40:07.786055Z",
     "iopub.status.busy": "2023-03-01T17:40:07.785369Z",
     "iopub.status.idle": "2023-03-01T17:40:07.807024Z",
     "shell.execute_reply": "2023-03-01T17:40:07.805884Z",
     "shell.execute_reply.started": "2023-03-01T17:40:07.786020Z"
    },
    "tags": []
   },
   "outputs": [
    {
     "ename": "FileNotFoundError",
     "evalue": "[Errno 2] No such file or directory: '/kaggle/input/log-data-labelled/log_niginx_labeled.csv'",
     "output_type": "error",
     "traceback": [
      "\u001b[1;31m---------------------------------------------------------------------------\u001b[0m",
      "\u001b[1;31mFileNotFoundError\u001b[0m                         Traceback (most recent call last)",
      "\u001b[1;32m~\\AppData\\Local\\Temp\\ipykernel_27796\\2115779187.py\u001b[0m in \u001b[0;36m<cell line: 1>\u001b[1;34m()\u001b[0m\n\u001b[1;32m----> 1\u001b[1;33m \u001b[0mdf\u001b[0m\u001b[1;33m=\u001b[0m\u001b[0mpd\u001b[0m\u001b[1;33m.\u001b[0m\u001b[0mread_csv\u001b[0m\u001b[1;33m(\u001b[0m\u001b[1;34m'/kaggle/input/log-data-labelled/log_niginx_labeled.csv'\u001b[0m\u001b[1;33m)\u001b[0m\u001b[1;33m\u001b[0m\u001b[1;33m\u001b[0m\u001b[0m\n\u001b[0m\u001b[0;32m      2\u001b[0m \u001b[0mdf\u001b[0m\u001b[1;33m.\u001b[0m\u001b[0mdrop\u001b[0m\u001b[1;33m(\u001b[0m\u001b[1;34m'Unnamed: 0'\u001b[0m\u001b[1;33m,\u001b[0m\u001b[0maxis\u001b[0m\u001b[1;33m=\u001b[0m\u001b[1;36m1\u001b[0m\u001b[1;33m,\u001b[0m\u001b[0minplace\u001b[0m\u001b[1;33m=\u001b[0m\u001b[1;32mTrue\u001b[0m\u001b[1;33m)\u001b[0m\u001b[1;33m\u001b[0m\u001b[1;33m\u001b[0m\u001b[0m\n\u001b[0;32m      3\u001b[0m \u001b[0mdf\u001b[0m\u001b[1;33m\u001b[0m\u001b[1;33m\u001b[0m\u001b[0m\n",
      "\u001b[1;32m~\\AppData\\Local\\Programs\\Python\\Python310\\lib\\site-packages\\pandas\\util\\_decorators.py\u001b[0m in \u001b[0;36mwrapper\u001b[1;34m(*args, **kwargs)\u001b[0m\n\u001b[0;32m    209\u001b[0m                 \u001b[1;32melse\u001b[0m\u001b[1;33m:\u001b[0m\u001b[1;33m\u001b[0m\u001b[1;33m\u001b[0m\u001b[0m\n\u001b[0;32m    210\u001b[0m                     \u001b[0mkwargs\u001b[0m\u001b[1;33m[\u001b[0m\u001b[0mnew_arg_name\u001b[0m\u001b[1;33m]\u001b[0m \u001b[1;33m=\u001b[0m \u001b[0mnew_arg_value\u001b[0m\u001b[1;33m\u001b[0m\u001b[1;33m\u001b[0m\u001b[0m\n\u001b[1;32m--> 211\u001b[1;33m             \u001b[1;32mreturn\u001b[0m \u001b[0mfunc\u001b[0m\u001b[1;33m(\u001b[0m\u001b[1;33m*\u001b[0m\u001b[0margs\u001b[0m\u001b[1;33m,\u001b[0m \u001b[1;33m**\u001b[0m\u001b[0mkwargs\u001b[0m\u001b[1;33m)\u001b[0m\u001b[1;33m\u001b[0m\u001b[1;33m\u001b[0m\u001b[0m\n\u001b[0m\u001b[0;32m    212\u001b[0m \u001b[1;33m\u001b[0m\u001b[0m\n\u001b[0;32m    213\u001b[0m         \u001b[1;32mreturn\u001b[0m \u001b[0mcast\u001b[0m\u001b[1;33m(\u001b[0m\u001b[0mF\u001b[0m\u001b[1;33m,\u001b[0m \u001b[0mwrapper\u001b[0m\u001b[1;33m)\u001b[0m\u001b[1;33m\u001b[0m\u001b[1;33m\u001b[0m\u001b[0m\n",
      "\u001b[1;32m~\\AppData\\Local\\Programs\\Python\\Python310\\lib\\site-packages\\pandas\\util\\_decorators.py\u001b[0m in \u001b[0;36mwrapper\u001b[1;34m(*args, **kwargs)\u001b[0m\n\u001b[0;32m    329\u001b[0m                     \u001b[0mstacklevel\u001b[0m\u001b[1;33m=\u001b[0m\u001b[0mfind_stack_level\u001b[0m\u001b[1;33m(\u001b[0m\u001b[1;33m)\u001b[0m\u001b[1;33m,\u001b[0m\u001b[1;33m\u001b[0m\u001b[1;33m\u001b[0m\u001b[0m\n\u001b[0;32m    330\u001b[0m                 )\n\u001b[1;32m--> 331\u001b[1;33m             \u001b[1;32mreturn\u001b[0m \u001b[0mfunc\u001b[0m\u001b[1;33m(\u001b[0m\u001b[1;33m*\u001b[0m\u001b[0margs\u001b[0m\u001b[1;33m,\u001b[0m \u001b[1;33m**\u001b[0m\u001b[0mkwargs\u001b[0m\u001b[1;33m)\u001b[0m\u001b[1;33m\u001b[0m\u001b[1;33m\u001b[0m\u001b[0m\n\u001b[0m\u001b[0;32m    332\u001b[0m \u001b[1;33m\u001b[0m\u001b[0m\n\u001b[0;32m    333\u001b[0m         \u001b[1;31m# error: \"Callable[[VarArg(Any), KwArg(Any)], Any]\" has no\u001b[0m\u001b[1;33m\u001b[0m\u001b[1;33m\u001b[0m\u001b[0m\n",
      "\u001b[1;32m~\\AppData\\Local\\Programs\\Python\\Python310\\lib\\site-packages\\pandas\\io\\parsers\\readers.py\u001b[0m in \u001b[0;36mread_csv\u001b[1;34m(filepath_or_buffer, sep, delimiter, header, names, index_col, usecols, squeeze, prefix, mangle_dupe_cols, dtype, engine, converters, true_values, false_values, skipinitialspace, skiprows, skipfooter, nrows, na_values, keep_default_na, na_filter, verbose, skip_blank_lines, parse_dates, infer_datetime_format, keep_date_col, date_parser, dayfirst, cache_dates, iterator, chunksize, compression, thousands, decimal, lineterminator, quotechar, quoting, doublequote, escapechar, comment, encoding, encoding_errors, dialect, error_bad_lines, warn_bad_lines, on_bad_lines, delim_whitespace, low_memory, memory_map, float_precision, storage_options)\u001b[0m\n\u001b[0;32m    948\u001b[0m     \u001b[0mkwds\u001b[0m\u001b[1;33m.\u001b[0m\u001b[0mupdate\u001b[0m\u001b[1;33m(\u001b[0m\u001b[0mkwds_defaults\u001b[0m\u001b[1;33m)\u001b[0m\u001b[1;33m\u001b[0m\u001b[1;33m\u001b[0m\u001b[0m\n\u001b[0;32m    949\u001b[0m \u001b[1;33m\u001b[0m\u001b[0m\n\u001b[1;32m--> 950\u001b[1;33m     \u001b[1;32mreturn\u001b[0m \u001b[0m_read\u001b[0m\u001b[1;33m(\u001b[0m\u001b[0mfilepath_or_buffer\u001b[0m\u001b[1;33m,\u001b[0m \u001b[0mkwds\u001b[0m\u001b[1;33m)\u001b[0m\u001b[1;33m\u001b[0m\u001b[1;33m\u001b[0m\u001b[0m\n\u001b[0m\u001b[0;32m    951\u001b[0m \u001b[1;33m\u001b[0m\u001b[0m\n\u001b[0;32m    952\u001b[0m \u001b[1;33m\u001b[0m\u001b[0m\n",
      "\u001b[1;32m~\\AppData\\Local\\Programs\\Python\\Python310\\lib\\site-packages\\pandas\\io\\parsers\\readers.py\u001b[0m in \u001b[0;36m_read\u001b[1;34m(filepath_or_buffer, kwds)\u001b[0m\n\u001b[0;32m    603\u001b[0m \u001b[1;33m\u001b[0m\u001b[0m\n\u001b[0;32m    604\u001b[0m     \u001b[1;31m# Create the parser.\u001b[0m\u001b[1;33m\u001b[0m\u001b[1;33m\u001b[0m\u001b[0m\n\u001b[1;32m--> 605\u001b[1;33m     \u001b[0mparser\u001b[0m \u001b[1;33m=\u001b[0m \u001b[0mTextFileReader\u001b[0m\u001b[1;33m(\u001b[0m\u001b[0mfilepath_or_buffer\u001b[0m\u001b[1;33m,\u001b[0m \u001b[1;33m**\u001b[0m\u001b[0mkwds\u001b[0m\u001b[1;33m)\u001b[0m\u001b[1;33m\u001b[0m\u001b[1;33m\u001b[0m\u001b[0m\n\u001b[0m\u001b[0;32m    606\u001b[0m \u001b[1;33m\u001b[0m\u001b[0m\n\u001b[0;32m    607\u001b[0m     \u001b[1;32mif\u001b[0m \u001b[0mchunksize\u001b[0m \u001b[1;32mor\u001b[0m \u001b[0miterator\u001b[0m\u001b[1;33m:\u001b[0m\u001b[1;33m\u001b[0m\u001b[1;33m\u001b[0m\u001b[0m\n",
      "\u001b[1;32m~\\AppData\\Local\\Programs\\Python\\Python310\\lib\\site-packages\\pandas\\io\\parsers\\readers.py\u001b[0m in \u001b[0;36m__init__\u001b[1;34m(self, f, engine, **kwds)\u001b[0m\n\u001b[0;32m   1440\u001b[0m \u001b[1;33m\u001b[0m\u001b[0m\n\u001b[0;32m   1441\u001b[0m         \u001b[0mself\u001b[0m\u001b[1;33m.\u001b[0m\u001b[0mhandles\u001b[0m\u001b[1;33m:\u001b[0m \u001b[0mIOHandles\u001b[0m \u001b[1;33m|\u001b[0m \u001b[1;32mNone\u001b[0m \u001b[1;33m=\u001b[0m \u001b[1;32mNone\u001b[0m\u001b[1;33m\u001b[0m\u001b[1;33m\u001b[0m\u001b[0m\n\u001b[1;32m-> 1442\u001b[1;33m         \u001b[0mself\u001b[0m\u001b[1;33m.\u001b[0m\u001b[0m_engine\u001b[0m \u001b[1;33m=\u001b[0m \u001b[0mself\u001b[0m\u001b[1;33m.\u001b[0m\u001b[0m_make_engine\u001b[0m\u001b[1;33m(\u001b[0m\u001b[0mf\u001b[0m\u001b[1;33m,\u001b[0m \u001b[0mself\u001b[0m\u001b[1;33m.\u001b[0m\u001b[0mengine\u001b[0m\u001b[1;33m)\u001b[0m\u001b[1;33m\u001b[0m\u001b[1;33m\u001b[0m\u001b[0m\n\u001b[0m\u001b[0;32m   1443\u001b[0m \u001b[1;33m\u001b[0m\u001b[0m\n\u001b[0;32m   1444\u001b[0m     \u001b[1;32mdef\u001b[0m \u001b[0mclose\u001b[0m\u001b[1;33m(\u001b[0m\u001b[0mself\u001b[0m\u001b[1;33m)\u001b[0m \u001b[1;33m->\u001b[0m \u001b[1;32mNone\u001b[0m\u001b[1;33m:\u001b[0m\u001b[1;33m\u001b[0m\u001b[1;33m\u001b[0m\u001b[0m\n",
      "\u001b[1;32m~\\AppData\\Local\\Programs\\Python\\Python310\\lib\\site-packages\\pandas\\io\\parsers\\readers.py\u001b[0m in \u001b[0;36m_make_engine\u001b[1;34m(self, f, engine)\u001b[0m\n\u001b[0;32m   1733\u001b[0m                 \u001b[1;32mif\u001b[0m \u001b[1;34m\"b\"\u001b[0m \u001b[1;32mnot\u001b[0m \u001b[1;32min\u001b[0m \u001b[0mmode\u001b[0m\u001b[1;33m:\u001b[0m\u001b[1;33m\u001b[0m\u001b[1;33m\u001b[0m\u001b[0m\n\u001b[0;32m   1734\u001b[0m                     \u001b[0mmode\u001b[0m \u001b[1;33m+=\u001b[0m \u001b[1;34m\"b\"\u001b[0m\u001b[1;33m\u001b[0m\u001b[1;33m\u001b[0m\u001b[0m\n\u001b[1;32m-> 1735\u001b[1;33m             self.handles = get_handle(\n\u001b[0m\u001b[0;32m   1736\u001b[0m                 \u001b[0mf\u001b[0m\u001b[1;33m,\u001b[0m\u001b[1;33m\u001b[0m\u001b[1;33m\u001b[0m\u001b[0m\n\u001b[0;32m   1737\u001b[0m                 \u001b[0mmode\u001b[0m\u001b[1;33m,\u001b[0m\u001b[1;33m\u001b[0m\u001b[1;33m\u001b[0m\u001b[0m\n",
      "\u001b[1;32m~\\AppData\\Local\\Programs\\Python\\Python310\\lib\\site-packages\\pandas\\io\\common.py\u001b[0m in \u001b[0;36mget_handle\u001b[1;34m(path_or_buf, mode, encoding, compression, memory_map, is_text, errors, storage_options)\u001b[0m\n\u001b[0;32m    854\u001b[0m         \u001b[1;32mif\u001b[0m \u001b[0mioargs\u001b[0m\u001b[1;33m.\u001b[0m\u001b[0mencoding\u001b[0m \u001b[1;32mand\u001b[0m \u001b[1;34m\"b\"\u001b[0m \u001b[1;32mnot\u001b[0m \u001b[1;32min\u001b[0m \u001b[0mioargs\u001b[0m\u001b[1;33m.\u001b[0m\u001b[0mmode\u001b[0m\u001b[1;33m:\u001b[0m\u001b[1;33m\u001b[0m\u001b[1;33m\u001b[0m\u001b[0m\n\u001b[0;32m    855\u001b[0m             \u001b[1;31m# Encoding\u001b[0m\u001b[1;33m\u001b[0m\u001b[1;33m\u001b[0m\u001b[0m\n\u001b[1;32m--> 856\u001b[1;33m             handle = open(\n\u001b[0m\u001b[0;32m    857\u001b[0m                 \u001b[0mhandle\u001b[0m\u001b[1;33m,\u001b[0m\u001b[1;33m\u001b[0m\u001b[1;33m\u001b[0m\u001b[0m\n\u001b[0;32m    858\u001b[0m                 \u001b[0mioargs\u001b[0m\u001b[1;33m.\u001b[0m\u001b[0mmode\u001b[0m\u001b[1;33m,\u001b[0m\u001b[1;33m\u001b[0m\u001b[1;33m\u001b[0m\u001b[0m\n",
      "\u001b[1;31mFileNotFoundError\u001b[0m: [Errno 2] No such file or directory: '/kaggle/input/log-data-labelled/log_niginx_labeled.csv'"
     ]
    }
   ],
   "source": [
    "df=pd.read_csv('/kaggle/input/log-data-labelled/log_niginx_labeled.csv')\n",
    "df.drop('Unnamed: 0',axis=1,inplace=True)\n",
    "df"
   ]
  },
  {
   "cell_type": "code",
   "execution_count": null,
   "id": "949b4f59",
   "metadata": {
    "execution": {
     "iopub.execute_input": "2023-03-01T17:40:08.941588Z",
     "iopub.status.busy": "2023-03-01T17:40:08.940530Z",
     "iopub.status.idle": "2023-03-01T17:40:08.951342Z",
     "shell.execute_reply": "2023-03-01T17:40:08.950032Z",
     "shell.execute_reply.started": "2023-03-01T17:40:08.941531Z"
    },
    "tags": []
   },
   "outputs": [],
   "source": [
    "#Protocol still have some null values\n",
    "df['protocol'].isna().value_counts()"
   ]
  },
  {
   "cell_type": "markdown",
   "id": "891a7146",
   "metadata": {},
   "source": [
    "## Anomaly Detection Using Pycaret\n",
    "### PyCaret’s Anomaly Detection Module is an unsupervised machine learning module that is used for identifying rare items, events or observations which raise suspicions by differing significantly from the majority of the data. \n",
    "\n",
    "### Typically, the anomalous items will translate to some kind of problem such as bank fraud, a structural defect, medical problems or errors . \n",
    "\n",
    "### This module provide several pre-processing features that prepares the data for modeling through setup function. \n",
    "\n",
    "### This module has over 12 ready-to-use algorithms and several plots to analyze the results of trained models."
   ]
  },
  {
   "cell_type": "markdown",
   "id": "c30c938d",
   "metadata": {
    "tags": []
   },
   "source": [
    "#pip install --pre pycaret"
   ]
  },
  {
   "cell_type": "code",
   "execution_count": null,
   "id": "2c4d7646",
   "metadata": {
    "execution": {
     "iopub.execute_input": "2023-03-01T17:40:14.186954Z",
     "iopub.status.busy": "2023-03-01T17:40:14.186232Z",
     "iopub.status.idle": "2023-03-01T17:40:14.192076Z",
     "shell.execute_reply": "2023-03-01T17:40:14.190665Z",
     "shell.execute_reply.started": "2023-03-01T17:40:14.186917Z"
    }
   },
   "outputs": [],
   "source": [
    "from pycaret.anomaly import *"
   ]
  },
  {
   "cell_type": "code",
   "execution_count": null,
   "id": "60c7992f",
   "metadata": {
    "execution": {
     "iopub.execute_input": "2023-03-01T17:40:19.570108Z",
     "iopub.status.busy": "2023-03-01T17:40:19.569384Z",
     "iopub.status.idle": "2023-03-01T17:40:19.639199Z",
     "shell.execute_reply": "2023-03-01T17:40:19.638005Z",
     "shell.execute_reply.started": "2023-03-01T17:40:19.570073Z"
    },
    "tags": []
   },
   "outputs": [],
   "source": [
    "#intialize the setup\n",
    "exp_ano = setup(df)"
   ]
  },
  {
   "cell_type": "markdown",
   "id": "e4f27899",
   "metadata": {},
   "source": [
    "# Creating iforest model"
   ]
  },
  {
   "cell_type": "code",
   "execution_count": null,
   "id": "05da7712",
   "metadata": {
    "execution": {
     "iopub.execute_input": "2023-03-01T17:40:45.329660Z",
     "iopub.status.busy": "2023-03-01T17:40:45.329273Z",
     "iopub.status.idle": "2023-03-01T17:42:09.391885Z",
     "shell.execute_reply": "2023-03-01T17:42:09.390832Z",
     "shell.execute_reply.started": "2023-03-01T17:40:45.329626Z"
    },
    "tags": []
   },
   "outputs": [],
   "source": [
    "iforest=create_model('iforest')\n",
    "## plotting a model\n",
    "plot_model(iforest)"
   ]
  },
  {
   "cell_type": "code",
   "execution_count": null,
   "id": "cc04843a",
   "metadata": {
    "execution": {
     "iopub.execute_input": "2023-03-01T18:00:27.152006Z",
     "iopub.status.busy": "2023-03-01T18:00:27.151643Z",
     "iopub.status.idle": "2023-03-01T18:00:37.344832Z",
     "shell.execute_reply": "2023-03-01T18:00:37.343537Z",
     "shell.execute_reply.started": "2023-03-01T18:00:27.151975Z"
    },
    "tags": []
   },
   "outputs": [],
   "source": [
    "plot_model(iforest, plot = 'umap')"
   ]
  },
  {
   "cell_type": "code",
   "execution_count": null,
   "id": "58b4b7b6",
   "metadata": {
    "execution": {
     "iopub.execute_input": "2023-03-01T18:09:09.386785Z",
     "iopub.status.busy": "2023-03-01T18:09:09.385897Z",
     "iopub.status.idle": "2023-03-01T18:09:09.403940Z",
     "shell.execute_reply": "2023-03-01T18:09:09.402808Z",
     "shell.execute_reply.started": "2023-03-01T18:09:09.386746Z"
    }
   },
   "outputs": [],
   "source": [
    "result_iforest = assign_model(iforest)\n",
    "result_iforest.head()"
   ]
  },
  {
   "cell_type": "markdown",
   "id": "3a4b7c0a",
   "metadata": {},
   "source": [
    "# Generate predictions using trained model(iforest)"
   ]
  },
  {
   "cell_type": "code",
   "execution_count": null,
   "id": "bde3f4bd",
   "metadata": {
    "execution": {
     "iopub.execute_input": "2023-03-01T17:43:34.872427Z",
     "iopub.status.busy": "2023-03-01T17:43:34.871768Z",
     "iopub.status.idle": "2023-03-01T17:43:35.201247Z",
     "shell.execute_reply": "2023-03-01T17:43:35.200220Z",
     "shell.execute_reply.started": "2023-03-01T17:43:34.872388Z"
    }
   },
   "outputs": [],
   "source": [
    "iforest_predictions = predict_model(iforest, data = df)"
   ]
  },
  {
   "cell_type": "code",
   "execution_count": null,
   "id": "a8e48ca7",
   "metadata": {
    "execution": {
     "iopub.execute_input": "2023-03-01T17:43:37.768885Z",
     "iopub.status.busy": "2023-03-01T17:43:37.767916Z",
     "iopub.status.idle": "2023-03-01T17:43:37.779428Z",
     "shell.execute_reply": "2023-03-01T17:43:37.778508Z",
     "shell.execute_reply.started": "2023-03-01T17:43:37.768836Z"
    }
   },
   "outputs": [],
   "source": [
    "iforest_predictions['Anomaly'].value_counts()"
   ]
  },
  {
   "cell_type": "code",
   "execution_count": null,
   "id": "341ed556",
   "metadata": {
    "execution": {
     "iopub.execute_input": "2023-03-01T17:43:43.264483Z",
     "iopub.status.busy": "2023-03-01T17:43:43.263747Z",
     "iopub.status.idle": "2023-03-01T17:43:43.294397Z",
     "shell.execute_reply": "2023-03-01T17:43:43.293332Z",
     "shell.execute_reply.started": "2023-03-01T17:43:43.264431Z"
    }
   },
   "outputs": [],
   "source": [
    "iforest_predictions[iforest_predictions['Anomaly']==1]"
   ]
  },
  {
   "cell_type": "markdown",
   "id": "3807c57d",
   "metadata": {
    "tags": []
   },
   "source": [
    "# creating KNN model"
   ]
  },
  {
   "cell_type": "code",
   "execution_count": null,
   "id": "98d6f662",
   "metadata": {
    "execution": {
     "iopub.execute_input": "2023-03-01T18:00:58.993052Z",
     "iopub.status.busy": "2023-03-01T18:00:58.992671Z",
     "iopub.status.idle": "2023-03-01T18:02:19.552056Z",
     "shell.execute_reply": "2023-03-01T18:02:19.550876Z",
     "shell.execute_reply.started": "2023-03-01T18:00:58.993019Z"
    },
    "tags": []
   },
   "outputs": [],
   "source": [
    "knn=create_model('knn')\n",
    "## plotting a model\n",
    "plot_model(knn)"
   ]
  },
  {
   "cell_type": "code",
   "execution_count": null,
   "id": "7c1eefa8",
   "metadata": {
    "execution": {
     "iopub.execute_input": "2023-03-01T17:48:36.175983Z",
     "iopub.status.busy": "2023-03-01T17:48:36.175628Z",
     "iopub.status.idle": "2023-03-01T17:48:45.457275Z",
     "shell.execute_reply": "2023-03-01T17:48:45.456216Z",
     "shell.execute_reply.started": "2023-03-01T17:48:36.175953Z"
    }
   },
   "outputs": [],
   "source": [
    "plot_model(knn, plot = 'umap')"
   ]
  },
  {
   "cell_type": "code",
   "execution_count": null,
   "id": "f495edf0",
   "metadata": {
    "execution": {
     "iopub.execute_input": "2023-03-01T18:08:53.122725Z",
     "iopub.status.busy": "2023-03-01T18:08:53.121990Z",
     "iopub.status.idle": "2023-03-01T18:08:53.142168Z",
     "shell.execute_reply": "2023-03-01T18:08:53.141154Z",
     "shell.execute_reply.started": "2023-03-01T18:08:53.122686Z"
    }
   },
   "outputs": [],
   "source": [
    "result_knn = assign_model(knn)\n",
    "result_knn.head()"
   ]
  },
  {
   "cell_type": "markdown",
   "id": "8d57ea31",
   "metadata": {
    "tags": []
   },
   "source": [
    "# Generate predictions using trained model(knn)"
   ]
  },
  {
   "cell_type": "code",
   "execution_count": null,
   "id": "2f04d986",
   "metadata": {
    "execution": {
     "iopub.execute_input": "2023-03-01T17:46:09.726633Z",
     "iopub.status.busy": "2023-03-01T17:46:09.726234Z",
     "iopub.status.idle": "2023-03-01T17:46:10.375739Z",
     "shell.execute_reply": "2023-03-01T17:46:10.374657Z",
     "shell.execute_reply.started": "2023-03-01T17:46:09.726597Z"
    },
    "tags": []
   },
   "outputs": [],
   "source": [
    "knn_predictions = predict_model(knn, data = df)"
   ]
  },
  {
   "cell_type": "code",
   "execution_count": null,
   "id": "f8789a2b",
   "metadata": {
    "execution": {
     "iopub.execute_input": "2023-03-01T17:46:20.566098Z",
     "iopub.status.busy": "2023-03-01T17:46:20.565373Z",
     "iopub.status.idle": "2023-03-01T17:46:20.575331Z",
     "shell.execute_reply": "2023-03-01T17:46:20.574135Z",
     "shell.execute_reply.started": "2023-03-01T17:46:20.566061Z"
    }
   },
   "outputs": [],
   "source": [
    "knn_predictions['Anomaly'].value_counts()"
   ]
  },
  {
   "cell_type": "code",
   "execution_count": null,
   "id": "84e59757",
   "metadata": {
    "execution": {
     "iopub.execute_input": "2023-03-01T17:46:31.719968Z",
     "iopub.status.busy": "2023-03-01T17:46:31.719609Z",
     "iopub.status.idle": "2023-03-01T17:46:31.745077Z",
     "shell.execute_reply": "2023-03-01T17:46:31.743836Z",
     "shell.execute_reply.started": "2023-03-01T17:46:31.719938Z"
    },
    "tags": []
   },
   "outputs": [],
   "source": [
    "knn_predictions[knn_predictions['Anomaly']==1]"
   ]
  },
  {
   "cell_type": "code",
   "execution_count": null,
   "id": "aafa2cdf",
   "metadata": {
    "execution": {
     "iopub.execute_input": "2023-03-01T18:15:24.211991Z",
     "iopub.status.busy": "2023-03-01T18:15:24.211011Z",
     "iopub.status.idle": "2023-03-01T18:15:24.816426Z",
     "shell.execute_reply": "2023-03-01T18:15:24.815440Z",
     "shell.execute_reply.started": "2023-03-01T18:15:24.211940Z"
    }
   },
   "outputs": [],
   "source": [
    "#\n",
    "save_model(iforest, 'iforest_model')"
   ]
  },
  {
   "cell_type": "code",
   "execution_count": null,
   "id": "ad55d79c",
   "metadata": {
    "execution": {
     "iopub.execute_input": "2023-03-01T18:15:43.280928Z",
     "iopub.status.busy": "2023-03-01T18:15:43.279835Z",
     "iopub.status.idle": "2023-03-01T18:15:43.847573Z",
     "shell.execute_reply": "2023-03-01T18:15:43.846390Z",
     "shell.execute_reply.started": "2023-03-01T18:15:43.280883Z"
    }
   },
   "outputs": [],
   "source": [
    "save_model(knn, 'knn_model')"
   ]
  },
  {
   "cell_type": "code",
   "execution_count": null,
   "id": "ab9b6d70",
   "metadata": {},
   "outputs": [],
   "source": [
    "result_knn"
   ]
  },
  {
   "cell_type": "code",
   "execution_count": null,
   "id": "be326d59",
   "metadata": {},
   "outputs": [],
   "source": []
  }
 ],
 "metadata": {
  "kernelspec": {
   "display_name": "Python 3 (ipykernel)",
   "language": "python",
   "name": "python3"
  },
  "language_info": {
   "codemirror_mode": {
    "name": "ipython",
    "version": 3
   },
   "file_extension": ".py",
   "mimetype": "text/x-python",
   "name": "python",
   "nbconvert_exporter": "python",
   "pygments_lexer": "ipython3",
   "version": "3.10.5"
  }
 },
 "nbformat": 4,
 "nbformat_minor": 5
}
