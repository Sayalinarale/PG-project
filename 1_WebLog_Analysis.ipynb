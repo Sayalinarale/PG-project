{
 "cells": [
  {
   "cell_type": "markdown",
   "id": "ea60b4ba-ade0-4550-adde-9152b95d5e16",
   "metadata": {},
   "source": [
    "# configure spark variables"
   ]
  },
  {
   "cell_type": "code",
   "execution_count": 1,
   "id": "8dfbabbf-5083-4154-9094-ebfc252b6d9f",
   "metadata": {
    "tags": []
   },
   "outputs": [],
   "source": [
    "import warnings\n",
    "warnings.filterwarnings(\"ignore\")"
   ]
  },
  {
   "cell_type": "code",
   "execution_count": 2,
   "id": "6addeaa7-878b-4c5f-aa23-a6514be48554",
   "metadata": {
    "tags": []
   },
   "outputs": [],
   "source": [
    "from pyspark import SparkContext\n",
    "from pyspark.sql import SparkSession\n",
    "from pyspark.sql.context import  SQLContext"
   ]
  },
  {
   "cell_type": "code",
   "execution_count": 3,
   "id": "e0b4c355-f376-4d04-8479-b5d9ef6a17a3",
   "metadata": {
    "tags": []
   },
   "outputs": [
    {
     "name": "stdout",
     "output_type": "stream",
     "text": [
      "23/03/01 11:57:48 WARN Utils: Your hostname, Satyam resolves to a loopback address: 127.0.1.1; using 192.168.141.112 instead (on interface wlp19s0)\n",
      "23/03/01 11:57:48 WARN Utils: Set SPARK_LOCAL_IP if you need to bind to another address\n"
     ]
    },
    {
     "name": "stderr",
     "output_type": "stream",
     "text": [
      "Setting default log level to \"WARN\".\n",
      "To adjust logging level use sc.setLogLevel(newLevel). For SparkR, use setLogLevel(newLevel).\n"
     ]
    },
    {
     "name": "stdout",
     "output_type": "stream",
     "text": [
      "23/03/01 11:57:50 WARN NativeCodeLoader: Unable to load native-hadoop library for your platform... using builtin-java classes where applicable\n"
     ]
    }
   ],
   "source": [
    "sc=SparkContext()\n",
    "sqlContext=SQLContext(sc)\n",
    "spark=SparkSession(sc)"
   ]
  },
  {
   "cell_type": "markdown",
   "id": "774a5912-3dcc-4795-9cdc-db8c341162af",
   "metadata": {
    "tags": []
   },
   "source": [
    "# load up other dependencies"
   ]
  },
  {
   "cell_type": "code",
   "execution_count": 4,
   "id": "6c778a57-3f1d-432f-b4a2-8bbbfab8463a",
   "metadata": {
    "tags": []
   },
   "outputs": [],
   "source": [
    "import re\n",
    "import pandas as pd"
   ]
  },
  {
   "cell_type": "markdown",
   "id": "3d416d3c-9e13-4711-89b5-fd662cbd37c8",
   "metadata": {
    "tags": []
   },
   "source": [
    "Working with regular expressions will be one of the major aspects of parsing log files.Regular expressions are a really powerful pattern matching technique which can be used to extract and find patterns in semi-structured and unstructured data."
   ]
  },
  {
   "cell_type": "markdown",
   "id": "6fcc39a2-3b15-4e7a-a9d1-6b60c1685982",
   "metadata": {
    "tags": []
   },
   "source": [
    "### How Regular Expression works: example"
   ]
  },
  {
   "cell_type": "code",
   "execution_count": 5,
   "id": "1ac188b8-1991-4d1e-abf2-1cf621b7d76f",
   "metadata": {
    "tags": []
   },
   "outputs": [
    {
     "name": "stdout",
     "output_type": "stream",
     "text": [
      "<re.Match object; span=(0, 25), match=\"I'm searching for a spark\"> 0 25\n",
      "<re.Match object; span=(25, 36), match=' in PySpark'> 25 36\n"
     ]
    }
   ],
   "source": [
    "# m = re.finditer(r'.*?(spark).*?', \"I'm searching for a spark in PySpark\", re.I)\n",
    "# for match in m:\n",
    "#     print(match, match.start(), match.end())"
   ]
  },
  {
   "cell_type": "markdown",
   "id": "de4f6707-85c4-420f-a062-bbe4f635c96d",
   "metadata": {},
   "source": [
    "# Loading and Viewing the Log Dataset"
   ]
  },
  {
   "cell_type": "code",
   "execution_count": 6,
   "id": "d2b9e173-dc96-4754-9d0d-7cb52f14e8bf",
   "metadata": {
    "tags": []
   },
   "outputs": [],
   "source": [
    "import glob\n",
    "\n",
    "raw_data_files = glob.glob('Data/nginx-feb2023/nginx/*gz')"
   ]
  },
  {
   "cell_type": "code",
   "execution_count": 7,
   "id": "3f50eeea-4045-4536-ad5c-a458e020aa09",
   "metadata": {
    "tags": []
   },
   "outputs": [
    {
     "data": {
      "text/plain": [
       "['Data/nginx-feb2023/nginx/proxy.log-20230220.gz',\n",
       " 'Data/nginx-feb2023/nginx/proxy.log-20230221.gz',\n",
       " 'Data/nginx-feb2023/nginx/error.log-20230218.gz',\n",
       " 'Data/nginx-feb2023/nginx/proxy.log-20230216.gz',\n",
       " 'Data/nginx-feb2023/nginx/error.log-20230213.gz',\n",
       " 'Data/nginx-feb2023/nginx/access.log-20230220.gz',\n",
       " 'Data/nginx-feb2023/nginx/error.log-20230215.gz',\n",
       " 'Data/nginx-feb2023/nginx/proxy.log-20230215.gz',\n",
       " 'Data/nginx-feb2023/nginx/error.log-20230216.gz',\n",
       " 'Data/nginx-feb2023/nginx/proxy.log-20230218.gz',\n",
       " 'Data/nginx-feb2023/nginx/error.log-20230222.gz',\n",
       " 'Data/nginx-feb2023/nginx/error.log-20230220.gz',\n",
       " 'Data/nginx-feb2023/nginx/proxy.log-20230219.gz',\n",
       " 'Data/nginx-feb2023/nginx/error.log-20230221.gz',\n",
       " 'Data/nginx-feb2023/nginx/proxy.log-20230217.gz',\n",
       " 'Data/nginx-feb2023/nginx/proxy.log-20230222.gz',\n",
       " 'Data/nginx-feb2023/nginx/access.log-20230213.gz',\n",
       " 'Data/nginx-feb2023/nginx/proxy.log-20230213.gz',\n",
       " 'Data/nginx-feb2023/nginx/error.log-20230217.gz',\n",
       " 'Data/nginx-feb2023/nginx/error.log-20230219.gz',\n",
       " 'Data/nginx-feb2023/nginx/access.log-20230222.gz',\n",
       " 'Data/nginx-feb2023/nginx/access.log-20230218.gz',\n",
       " 'Data/nginx-feb2023/nginx/access.log-20230215.gz',\n",
       " 'Data/nginx-feb2023/nginx/access.log-20230216.gz',\n",
       " 'Data/nginx-feb2023/nginx/proxy.log-20230214.gz',\n",
       " 'Data/nginx-feb2023/nginx/access.log-20230217.gz',\n",
       " 'Data/nginx-feb2023/nginx/access.log-20230221.gz',\n",
       " 'Data/nginx-feb2023/nginx/access.log-20230214.gz',\n",
       " 'Data/nginx-feb2023/nginx/access.log-20230219.gz',\n",
       " 'Data/nginx-feb2023/nginx/error.log-20230214.gz']"
      ]
     },
     "execution_count": 7,
     "metadata": {},
     "output_type": "execute_result"
    }
   ],
   "source": [
    "raw_data_files"
   ]
  },
  {
   "cell_type": "markdown",
   "id": "1e9d1d01-b63b-453a-a473-40184b433589",
   "metadata": {},
   "source": [
    "we’ll use sqlContext.read.text() or spark.read.text() to read the text file. This will produce a DataFrame with a single string column called value."
   ]
  },
  {
   "cell_type": "code",
   "execution_count": 8,
   "id": "562e1682-8877-4661-8974-c380211cc4c5",
   "metadata": {
    "tags": []
   },
   "outputs": [
    {
     "name": "stdout",
     "output_type": "stream",
     "text": [
      "root\n",
      " |-- value: string (nullable = true)\n",
      "\n"
     ]
    }
   ],
   "source": [
    "base_df = spark.read.text(raw_data_files)\n",
    "base_df.printSchema()"
   ]
  },
  {
   "cell_type": "code",
   "execution_count": 9,
   "id": "a7428ad8-4dba-482c-aa83-ea9c73ffeeab",
   "metadata": {
    "tags": []
   },
   "outputs": [
    {
     "data": {
      "text/plain": [
       "pyspark.sql.dataframe.DataFrame"
      ]
     },
     "execution_count": 9,
     "metadata": {},
     "output_type": "execute_result"
    }
   ],
   "source": [
    "type(base_df)"
   ]
  },
  {
   "cell_type": "code",
   "execution_count": 10,
   "id": "73b83b1b-4855-4811-b6f9-b25b95d82cde",
   "metadata": {
    "tags": []
   },
   "outputs": [
    {
     "data": {
      "text/plain": [
       "pyspark.rdd.RDD"
      ]
     },
     "execution_count": 10,
     "metadata": {},
     "output_type": "execute_result"
    }
   ],
   "source": [
    "base_df_rdd = base_df.rdd\n",
    "type(base_df_rdd)"
   ]
  },
  {
   "cell_type": "code",
   "execution_count": 11,
   "id": "2d984c68-4a83-476e-9ddc-6acc90cdebb8",
   "metadata": {
    "tags": []
   },
   "outputs": [
    {
     "name": "stderr",
     "output_type": "stream",
     "text": [
      "[Stage 0:>                                                          (0 + 1) / 1]\r"
     ]
    },
    {
     "name": "stdout",
     "output_type": "stream",
     "text": [
      "+-----------------------------------------------------------------------------------------------------------------------------------------------------------------------------------------------------------------------------------------------------------------------------------------------------------------------------+\n",
      "|value                                                                                                                                                                                                                                                                                                                        |\n",
      "+-----------------------------------------------------------------------------------------------------------------------------------------------------------------------------------------------------------------------------------------------------------------------------------------------------------------------------+\n",
      "|143.244.50.172 - - [16/Feb/2023:03:28:45 +0530] \"GET /config/getuser?index=0 HTTP/1.1\" 400 248 \"-\" \"Mozilla/5.0 (X11; Ubuntu; Linux x86_64; rv:76.0) Gecko/20100101 Firefox/76.0\"                                                                                                                                            |\n",
      "|164.90.235.116 - - [16/Feb/2023:04:11:34 +0530] \"GET / HTTP/1.1\" 200 5952 \"http://14.139.152.12/\" \"Mozilla/5.0 (Windows NT 10.0; Win64; x64) AppleWebKit/537.36 (KHTML, like Gecko) Chrome/108.0.0.0 Safari/537.36\"                                                                                                          |\n",
      "|66.249.69.126 - - [16/Feb/2023:04:39:52 +0530] \"GET /robots.txt HTTP/1.1\" 404 146 \"-\" \"Mozilla/5.0 (compatible; Googlebot/2.1; +http://www.google.com/bot.html)\"                                                                                                                                                             |\n",
      "|66.249.69.126 - - [16/Feb/2023:04:39:52 +0530] \"GET /assets/img/favicon.png HTTP/1.1\" 200 491 \"-\" \"Googlebot-Image/1.0\"                                                                                                                                                                                                      |\n",
      "|185.221.219.172 - - [16/Feb/2023:05:06:47 +0530] \"GET /.git/config HTTP/1.1\" 404 548 \"-\" \"Mozilla/5.0 (compatible; MSIE 9.0; Windows NT 6.2; Trident/5.0)\"                                                                                                                                                                   |\n",
      "|66.249.69.101 - - [16/Feb/2023:05:24:52 +0530] \"GET /apim/devportal/site/public/images/logo.svg HTTP/1.1\" 304 0 \"-\" \"Googlebot-Image/1.0\"                                                                                                                                                                                    |\n",
      "|52.167.144.90 - - [16/Feb/2023:06:26:16 +0530] \"GET / HTTP/1.1\" 200 5952 \"-\" \"Mozilla/5.0 AppleWebKit/537.36 (KHTML, like Gecko; compatible; bingbot/2.0; +http://www.bing.com/bingbot.htm) Chrome/103.0.5060.134 Safari/537.36\"                                                                                             |\n",
      "|152.89.196.211 - - [16/Feb/2023:07:00:15 +0530] \"GET /vendor/phpunit/phpunit/src/Util/PHP/eval-stdin.php HTTP/1.1\" 404 548 \"http://14.139.152.12:80/vendor/phpunit/phpunit/src/Util/PHP/eval-stdin.php\" \"Mozilla/5.0 (Windows NT 10.0; Win64; x64) AppleWebKit/537.36 (KHTML, like Gecko) Chrome/78.0.3904.108 Safari/537.36\"|\n",
      "|114.119.133.53 - - [16/Feb/2023:07:01:52 +0530] \"GET /robots.txt HTTP/1.1\" 404 146 \"-\" \"Mozilla/5.0 (compatible;PetalBot;+https://webmaster.petalsearch.com/site/petalbot)\"                                                                                                                                                  |\n",
      "|198.20.69.98 - - [16/Feb/2023:07:26:00 +0530] \"GET / HTTP/1.1\" 200 5952 \"-\" \"Mozilla/5.0 (X11; Linux x86_64) AppleWebKit/537.36 (KHTML, like Gecko) Chrome/98.0.4758.102 Safari/537.36\"                                                                                                                                      |\n",
      "+-----------------------------------------------------------------------------------------------------------------------------------------------------------------------------------------------------------------------------------------------------------------------------------------------------------------------------+\n",
      "only showing top 10 rows\n",
      "\n"
     ]
    },
    {
     "name": "stderr",
     "output_type": "stream",
     "text": [
      "                                                                                \r"
     ]
    }
   ],
   "source": [
    "base_df.show(10, truncate=False)"
   ]
  },
  {
   "cell_type": "code",
   "execution_count": 12,
   "id": "4ba6bd93-67ff-4916-a030-cb46ca18695f",
   "metadata": {
    "tags": []
   },
   "outputs": [
    {
     "name": "stderr",
     "output_type": "stream",
     "text": [
      "                                                                                \r"
     ]
    },
    {
     "data": {
      "text/plain": [
       "[Row(value='143.244.50.172 - - [16/Feb/2023:03:28:45 +0530] \"GET /config/getuser?index=0 HTTP/1.1\" 400 248 \"-\" \"Mozilla/5.0 (X11; Ubuntu; Linux x86_64; rv:76.0) Gecko/20100101 Firefox/76.0\"'),\n",
       " Row(value='164.90.235.116 - - [16/Feb/2023:04:11:34 +0530] \"GET / HTTP/1.1\" 200 5952 \"http://14.139.152.12/\" \"Mozilla/5.0 (Windows NT 10.0; Win64; x64) AppleWebKit/537.36 (KHTML, like Gecko) Chrome/108.0.0.0 Safari/537.36\"'),\n",
       " Row(value='66.249.69.126 - - [16/Feb/2023:04:39:52 +0530] \"GET /robots.txt HTTP/1.1\" 404 146 \"-\" \"Mozilla/5.0 (compatible; Googlebot/2.1; +http://www.google.com/bot.html)\"'),\n",
       " Row(value='66.249.69.126 - - [16/Feb/2023:04:39:52 +0530] \"GET /assets/img/favicon.png HTTP/1.1\" 200 491 \"-\" \"Googlebot-Image/1.0\"'),\n",
       " Row(value='185.221.219.172 - - [16/Feb/2023:05:06:47 +0530] \"GET /.git/config HTTP/1.1\" 404 548 \"-\" \"Mozilla/5.0 (compatible; MSIE 9.0; Windows NT 6.2; Trident/5.0)\"'),\n",
       " Row(value='66.249.69.101 - - [16/Feb/2023:05:24:52 +0530] \"GET /apim/devportal/site/public/images/logo.svg HTTP/1.1\" 304 0 \"-\" \"Googlebot-Image/1.0\"'),\n",
       " Row(value='52.167.144.90 - - [16/Feb/2023:06:26:16 +0530] \"GET / HTTP/1.1\" 200 5952 \"-\" \"Mozilla/5.0 AppleWebKit/537.36 (KHTML, like Gecko; compatible; bingbot/2.0; +http://www.bing.com/bingbot.htm) Chrome/103.0.5060.134 Safari/537.36\"'),\n",
       " Row(value='152.89.196.211 - - [16/Feb/2023:07:00:15 +0530] \"GET /vendor/phpunit/phpunit/src/Util/PHP/eval-stdin.php HTTP/1.1\" 404 548 \"http://14.139.152.12:80/vendor/phpunit/phpunit/src/Util/PHP/eval-stdin.php\" \"Mozilla/5.0 (Windows NT 10.0; Win64; x64) AppleWebKit/537.36 (KHTML, like Gecko) Chrome/78.0.3904.108 Safari/537.36\"'),\n",
       " Row(value='114.119.133.53 - - [16/Feb/2023:07:01:52 +0530] \"GET /robots.txt HTTP/1.1\" 404 146 \"-\" \"Mozilla/5.0 (compatible;PetalBot;+https://webmaster.petalsearch.com/site/petalbot)\"'),\n",
       " Row(value='198.20.69.98 - - [16/Feb/2023:07:26:00 +0530] \"GET / HTTP/1.1\" 200 5952 \"-\" \"Mozilla/5.0 (X11; Linux x86_64) AppleWebKit/537.36 (KHTML, like Gecko) Chrome/98.0.4758.102 Safari/537.36\"')]"
      ]
     },
     "execution_count": 12,
     "metadata": {},
     "output_type": "execute_result"
    }
   ],
   "source": [
    "base_df_rdd.take(10)"
   ]
  },
  {
   "cell_type": "markdown",
   "id": "bc38ce9a-8938-4525-9f05-319aca25282d",
   "metadata": {},
   "source": [
    "# Data Wrangling"
   ]
  },
  {
   "cell_type": "code",
   "execution_count": 13,
   "id": "74c883cd-20fa-4f18-99fa-cee41a198899",
   "metadata": {
    "tags": []
   },
   "outputs": [
    {
     "name": "stdout",
     "output_type": "stream",
     "text": [
      "(6218, 1)\n"
     ]
    }
   ],
   "source": [
    "print((base_df.count(), len(base_df.columns)))"
   ]
  },
  {
   "cell_type": "code",
   "execution_count": 14,
   "id": "a0af3a63-4782-4bb0-9270-e6b3993f18f6",
   "metadata": {
    "tags": []
   },
   "outputs": [
    {
     "data": {
      "text/plain": [
       "['143.244.50.172 - - [16/Feb/2023:03:28:45 +0530] \"GET /config/getuser?index=0 HTTP/1.1\" 400 248 \"-\" \"Mozilla/5.0 (X11; Ubuntu; Linux x86_64; rv:76.0) Gecko/20100101 Firefox/76.0\"',\n",
       " '164.90.235.116 - - [16/Feb/2023:04:11:34 +0530] \"GET / HTTP/1.1\" 200 5952 \"http://14.139.152.12/\" \"Mozilla/5.0 (Windows NT 10.0; Win64; x64) AppleWebKit/537.36 (KHTML, like Gecko) Chrome/108.0.0.0 Safari/537.36\"',\n",
       " '66.249.69.126 - - [16/Feb/2023:04:39:52 +0530] \"GET /robots.txt HTTP/1.1\" 404 146 \"-\" \"Mozilla/5.0 (compatible; Googlebot/2.1; +http://www.google.com/bot.html)\"',\n",
       " '66.249.69.126 - - [16/Feb/2023:04:39:52 +0530] \"GET /assets/img/favicon.png HTTP/1.1\" 200 491 \"-\" \"Googlebot-Image/1.0\"',\n",
       " '185.221.219.172 - - [16/Feb/2023:05:06:47 +0530] \"GET /.git/config HTTP/1.1\" 404 548 \"-\" \"Mozilla/5.0 (compatible; MSIE 9.0; Windows NT 6.2; Trident/5.0)\"',\n",
       " '66.249.69.101 - - [16/Feb/2023:05:24:52 +0530] \"GET /apim/devportal/site/public/images/logo.svg HTTP/1.1\" 304 0 \"-\" \"Googlebot-Image/1.0\"',\n",
       " '52.167.144.90 - - [16/Feb/2023:06:26:16 +0530] \"GET / HTTP/1.1\" 200 5952 \"-\" \"Mozilla/5.0 AppleWebKit/537.36 (KHTML, like Gecko; compatible; bingbot/2.0; +http://www.bing.com/bingbot.htm) Chrome/103.0.5060.134 Safari/537.36\"',\n",
       " '152.89.196.211 - - [16/Feb/2023:07:00:15 +0530] \"GET /vendor/phpunit/phpunit/src/Util/PHP/eval-stdin.php HTTP/1.1\" 404 548 \"http://14.139.152.12:80/vendor/phpunit/phpunit/src/Util/PHP/eval-stdin.php\" \"Mozilla/5.0 (Windows NT 10.0; Win64; x64) AppleWebKit/537.36 (KHTML, like Gecko) Chrome/78.0.3904.108 Safari/537.36\"',\n",
       " '114.119.133.53 - - [16/Feb/2023:07:01:52 +0530] \"GET /robots.txt HTTP/1.1\" 404 146 \"-\" \"Mozilla/5.0 (compatible;PetalBot;+https://webmaster.petalsearch.com/site/petalbot)\"',\n",
       " '198.20.69.98 - - [16/Feb/2023:07:26:00 +0530] \"GET / HTTP/1.1\" 200 5952 \"-\" \"Mozilla/5.0 (X11; Linux x86_64) AppleWebKit/537.36 (KHTML, like Gecko) Chrome/98.0.4758.102 Safari/537.36\"',\n",
       " '198.20.69.98 - - [16/Feb/2023:07:26:16 +0530] \"\" 400 0 \"-\" \"-\"',\n",
       " '198.20.69.98 - - [16/Feb/2023:07:26:20 +0530] \"\" 400 0 \"-\" \"-\"',\n",
       " '198.20.69.98 - - [16/Feb/2023:07:26:21 +0530] \"\" 400 0 \"-\" \"-\"',\n",
       " '198.20.69.98 - - [16/Feb/2023:07:26:24 +0530] \"\" 400 0 \"-\" \"-\"',\n",
       " '198.20.69.98 - - [16/Feb/2023:07:26:30 +0530] \"GET /robots.txt HTTP/1.1\" 404 146 \"-\" \"-\"']"
      ]
     },
     "execution_count": 14,
     "metadata": {},
     "output_type": "execute_result"
    }
   ],
   "source": [
    "sample_logs = [item['value'] for item in base_df.take(15)]\n",
    "sample_logs"
   ]
  },
  {
   "cell_type": "markdown",
   "id": "7cb34733-7085-43d7-8006-f6d04bd58279",
   "metadata": {},
   "source": [
    "## Extracting host names"
   ]
  },
  {
   "cell_type": "code",
   "execution_count": 15,
   "id": "00f33b63-5215-4ea4-8817-b000c679ba9c",
   "metadata": {
    "tags": []
   },
   "outputs": [
    {
     "data": {
      "text/plain": [
       "['143.244.50.172',\n",
       " '164.90.235.116',\n",
       " '66.249.69.126',\n",
       " '66.249.69.126',\n",
       " '185.221.219.172',\n",
       " '66.249.69.101',\n",
       " '52.167.144.90',\n",
       " '152.89.196.211',\n",
       " '114.119.133.53',\n",
       " '198.20.69.98',\n",
       " '198.20.69.98',\n",
       " '198.20.69.98',\n",
       " '198.20.69.98',\n",
       " '198.20.69.98',\n",
       " '198.20.69.98']"
      ]
     },
     "execution_count": 15,
     "metadata": {},
     "output_type": "execute_result"
    }
   ],
   "source": [
    "host_pattern = r'(^\\S+\\.[\\S+\\.]+\\S+)\\s'\n",
    "hosts = [re.search(host_pattern, item).group(1)\n",
    "           if re.search(host_pattern, item)\n",
    "           else 'no match'\n",
    "           for item in sample_logs]\n",
    "hosts"
   ]
  },
  {
   "cell_type": "markdown",
   "id": "9044b4e9-66ec-4e45-a033-848ff58f1e82",
   "metadata": {},
   "source": [
    "## Extracting timestamps"
   ]
  },
  {
   "cell_type": "code",
   "execution_count": 16,
   "id": "5c662d5e-5dae-4177-9cb7-9310092fe4e9",
   "metadata": {
    "tags": []
   },
   "outputs": [
    {
     "data": {
      "text/plain": [
       "['16/Feb/2023:03:28:45',\n",
       " '16/Feb/2023:04:11:34',\n",
       " '16/Feb/2023:04:39:52',\n",
       " '16/Feb/2023:04:39:52',\n",
       " '16/Feb/2023:05:06:47',\n",
       " '16/Feb/2023:05:24:52',\n",
       " '16/Feb/2023:06:26:16',\n",
       " '16/Feb/2023:07:00:15',\n",
       " '16/Feb/2023:07:01:52',\n",
       " '16/Feb/2023:07:26:00',\n",
       " '16/Feb/2023:07:26:16',\n",
       " '16/Feb/2023:07:26:20',\n",
       " '16/Feb/2023:07:26:21',\n",
       " '16/Feb/2023:07:26:24',\n",
       " '16/Feb/2023:07:26:30']"
      ]
     },
     "execution_count": 16,
     "metadata": {},
     "output_type": "execute_result"
    }
   ],
   "source": [
    "#ts_pattern = r'\\[(\\d{2}/\\w{3}/\\d{4}:\\d{2}:\\d{2}:\\d{2} \\d{4})'\n",
    "ts_pattern = r'\\[(\\d{2}/\\w{3}/\\d{4}:\\d{2}:\\d{2}:\\d{2})'\n",
    "timestamps = [re.search(ts_pattern, item).group(1)\n",
    "              for item in sample_logs]\n",
    "timestamps"
   ]
  },
  {
   "cell_type": "markdown",
   "id": "d5497988-5dc2-436c-9b7c-43b10c3cc667",
   "metadata": {},
   "source": [
    "## Extracting HTTP Request Method, URIs and Protocol"
   ]
  },
  {
   "cell_type": "code",
   "execution_count": 17,
   "id": "94378631-9ba9-4088-b4d2-737cd305bd0a",
   "metadata": {
    "tags": []
   },
   "outputs": [
    {
     "data": {
      "text/plain": [
       "[('GET', '/config/getuser?index=0', 'HTTP/1.1'),\n",
       " ('GET', '/', 'HTTP/1.1'),\n",
       " ('GET', '/robots.txt', 'HTTP/1.1'),\n",
       " ('GET', '/assets/img/favicon.png', 'HTTP/1.1'),\n",
       " ('GET', '/.git/config', 'HTTP/1.1'),\n",
       " ('GET', '/apim/devportal/site/public/images/logo.svg', 'HTTP/1.1'),\n",
       " ('GET', '/', 'HTTP/1.1'),\n",
       " ('GET', '/vendor/phpunit/phpunit/src/Util/PHP/eval-stdin.php', 'HTTP/1.1'),\n",
       " ('GET', '/robots.txt', 'HTTP/1.1'),\n",
       " ('GET', '/', 'HTTP/1.1'),\n",
       " ('-\"', '\"-', ''),\n",
       " ('-\"', '\"-', ''),\n",
       " ('-\"', '\"-', ''),\n",
       " ('-\"', '\"-', ''),\n",
       " ('GET', '/robots.txt', 'HTTP/1.1')]"
      ]
     },
     "execution_count": 17,
     "metadata": {},
     "output_type": "execute_result"
    }
   ],
   "source": [
    "method_uri_protocol_pattern = r'\\\"(\\S+)\\s(\\S+)\\s*(\\S*)\\\"'\n",
    "method_uri_protocol = [re.search(method_uri_protocol_pattern, item).groups()\n",
    "               if re.search(method_uri_protocol_pattern, item)\n",
    "               else 'no match'\n",
    "              for item in sample_logs]\n",
    "method_uri_protocol"
   ]
  },
  {
   "cell_type": "markdown",
   "id": "2e3889a6-de0b-4f15-bcbd-c0e8c3b1b62f",
   "metadata": {},
   "source": [
    "## Extracting HTTP Status Codes"
   ]
  },
  {
   "cell_type": "code",
   "execution_count": 18,
   "id": "7fea203d-2bc8-42d6-8d56-c5bb9edd9488",
   "metadata": {
    "tags": []
   },
   "outputs": [
    {
     "name": "stdout",
     "output_type": "stream",
     "text": [
      "['400', '200', '404', '200', '404', '304', '200', '404', '404', '200', '400', '400', '400', '400', '404']\n"
     ]
    }
   ],
   "source": [
    "status_pattern = r'\\s(\\d{3})\\s'\n",
    "status = [re.search(status_pattern, item).group(1) for item in sample_logs]\n",
    "print(status)"
   ]
  },
  {
   "cell_type": "markdown",
   "id": "3a124da7-b98e-4690-a854-860a415bbfaa",
   "metadata": {},
   "source": [
    "## Extracting HTTP Response Content Size"
   ]
  },
  {
   "cell_type": "code",
   "execution_count": 19,
   "id": "7bf6b5d5-9da6-445c-8fe6-baaca9b5b5b8",
   "metadata": {
    "tags": []
   },
   "outputs": [
    {
     "name": "stdout",
     "output_type": "stream",
     "text": [
      "['248', '5952', '146', '491', '548', '0', '5952', '548', '146', '5952', '0', '0', '0', '0', '146']\n"
     ]
    }
   ],
   "source": [
    "#content_size_pattern = r'\\s(\\d+)$'\n",
    "content_size_pattern = r'\\s(\\d+) \"'\n",
    "content_size = [re.search(content_size_pattern, item).group(1) for item in sample_logs]\n",
    "print(content_size)"
   ]
  },
  {
   "cell_type": "markdown",
   "id": "172e572a-2626-41f1-81ea-4df30f02b77e",
   "metadata": {},
   "source": [
    "# Putting it all together"
   ]
  },
  {
   "cell_type": "markdown",
   "id": "d7440de6-214b-4181-9866-cf05dbd07d4a",
   "metadata": {},
   "source": [
    "Let’s now try and leverage all the regular expression patterns we previously built and use the regexp_extract(...) method to build our dataframe with all the log attributes neatly extracted in their own separate columns."
   ]
  },
  {
   "cell_type": "code",
   "execution_count": 20,
   "id": "f51ecaed-8bbf-47f3-a042-c87847861fda",
   "metadata": {
    "tags": []
   },
   "outputs": [
    {
     "name": "stdout",
     "output_type": "stream",
     "text": [
      "+---------------+--------------------+------+--------------------+--------+------+------------+\n",
      "|           host|           timestamp|method|            endpoint|protocol|status|content_size|\n",
      "+---------------+--------------------+------+--------------------+--------+------+------------+\n",
      "| 143.244.50.172|16/Feb/2023:03:28:45|   GET|/config/getuser?i...|HTTP/1.1|   400|         248|\n",
      "| 164.90.235.116|16/Feb/2023:04:11:34|   GET|                   /|HTTP/1.1|   200|        5952|\n",
      "|  66.249.69.126|16/Feb/2023:04:39:52|   GET|         /robots.txt|HTTP/1.1|   404|         146|\n",
      "|  66.249.69.126|16/Feb/2023:04:39:52|   GET|/assets/img/favic...|HTTP/1.1|   200|         491|\n",
      "|185.221.219.172|16/Feb/2023:05:06:47|   GET|        /.git/config|HTTP/1.1|   404|         548|\n",
      "|  66.249.69.101|16/Feb/2023:05:24:52|   GET|/apim/devportal/s...|HTTP/1.1|   304|           0|\n",
      "|  52.167.144.90|16/Feb/2023:06:26:16|   GET|                   /|HTTP/1.1|   200|        5952|\n",
      "| 152.89.196.211|16/Feb/2023:07:00:15|   GET|/vendor/phpunit/p...|HTTP/1.1|   404|         548|\n",
      "| 114.119.133.53|16/Feb/2023:07:01:52|   GET|         /robots.txt|HTTP/1.1|   404|         146|\n",
      "|   198.20.69.98|16/Feb/2023:07:26:00|   GET|                   /|HTTP/1.1|   200|        5952|\n",
      "+---------------+--------------------+------+--------------------+--------+------+------------+\n",
      "only showing top 10 rows\n",
      "\n",
      "(6218, 7)\n"
     ]
    }
   ],
   "source": [
    "from pyspark.sql.functions import regexp_extract\n",
    "\n",
    "logs_df = base_df.select(regexp_extract('value', host_pattern, 1).alias('host'),\n",
    "                         regexp_extract('value', ts_pattern, 1).alias('timestamp'),\n",
    "                         regexp_extract('value', method_uri_protocol_pattern, 1).alias('method'),\n",
    "                         regexp_extract('value', method_uri_protocol_pattern, 2).alias('endpoint'),\n",
    "                         regexp_extract('value', method_uri_protocol_pattern, 3).alias('protocol'),\n",
    "                         regexp_extract('value', status_pattern, 1).cast('integer').alias('status'),\n",
    "                         regexp_extract('value', content_size_pattern, 1).cast('integer').alias('content_size'))\n",
    "logs_df.show(10, truncate=True)\n",
    "print((logs_df.count(), len(logs_df.columns)))"
   ]
  },
  {
   "cell_type": "code",
   "execution_count": 21,
   "id": "6b22592a-b403-4502-a254-a0f312b603b0",
   "metadata": {
    "tags": []
   },
   "outputs": [
    {
     "name": "stderr",
     "output_type": "stream",
     "text": [
      "                                                                                \r"
     ]
    }
   ],
   "source": [
    "panda_logs_df=logs_df.toPandas()"
   ]
  },
  {
   "cell_type": "code",
   "execution_count": 22,
   "id": "2de64d62-ceb4-4697-b017-7fb011ff4251",
   "metadata": {
    "tags": []
   },
   "outputs": [
    {
     "data": {
      "text/plain": [
       "host              0\n",
       "timestamp         0\n",
       "method            0\n",
       "endpoint          0\n",
       "protocol          0\n",
       "status          482\n",
       "content_size    482\n",
       "dtype: int64"
      ]
     },
     "execution_count": 22,
     "metadata": {},
     "output_type": "execute_result"
    }
   ],
   "source": [
    "panda_logs_df.isnull().sum()"
   ]
  },
  {
   "cell_type": "code",
   "execution_count": 23,
   "id": "78e23515-0f81-4050-a243-0fa1dac0e8ad",
   "metadata": {
    "tags": []
   },
   "outputs": [
    {
     "data": {
      "text/plain": [
       "Index(['host', 'timestamp', 'method', 'endpoint', 'protocol', 'status',\n",
       "       'content_size'],\n",
       "      dtype='object')"
      ]
     },
     "execution_count": 23,
     "metadata": {},
     "output_type": "execute_result"
    }
   ],
   "source": [
    "panda_logs_df.columns"
   ]
  },
  {
   "cell_type": "code",
   "execution_count": 24,
   "id": "6536e2f8-574e-452e-97fd-f2eb0dbd65a1",
   "metadata": {
    "tags": []
   },
   "outputs": [
    {
     "data": {
      "text/plain": [
       "95.57.152.188     549\n",
       "                  482\n",
       "122.50.208.20     282\n",
       "183.136.225.32    198\n",
       "193.42.33.24      197\n",
       "                 ... \n",
       "192.241.229.25      1\n",
       "182.59.123.87       1\n",
       "198.235.24.132      1\n",
       "42.235.133.126      1\n",
       "185.46.222.83       1\n",
       "Name: host, Length: 766, dtype: int64"
      ]
     },
     "execution_count": 24,
     "metadata": {},
     "output_type": "execute_result"
    }
   ],
   "source": [
    "panda_logs_df['host'].value_counts()"
   ]
  },
  {
   "cell_type": "code",
   "execution_count": 25,
   "id": "24088827-4150-4701-aaf5-1c8fc6e95ae7",
   "metadata": {
    "tags": []
   },
   "outputs": [
    {
     "data": {
      "text/plain": [
       "                        482\n",
       "20/Feb/2023:17:22:32     37\n",
       "21/Feb/2023:05:03:03     36\n",
       "14/Feb/2023:13:30:25     35\n",
       "14/Feb/2023:17:30:33     35\n",
       "                       ... \n",
       "12/Feb/2023:08:01:01      1\n",
       "12/Feb/2023:08:01:09      1\n",
       "12/Feb/2023:08:01:13      1\n",
       "12/Feb/2023:08:16:51      1\n",
       "14/Feb/2023:21:17:27      1\n",
       "Name: timestamp, Length: 3659, dtype: int64"
      ]
     },
     "execution_count": 25,
     "metadata": {},
     "output_type": "execute_result"
    }
   ],
   "source": [
    "panda_logs_df['timestamp'].value_counts()"
   ]
  },
  {
   "cell_type": "code",
   "execution_count": 26,
   "id": "69bfdd4c-f004-4b63-993f-32cbdbeca863",
   "metadata": {
    "tags": []
   },
   "outputs": [
    {
     "data": {
      "text/plain": [
       "/                                                  947\n",
       "\"-\"                                                716\n",
       "/boaform/admin/formLogin                           574\n",
       "www.msftncsi.com:443                               545\n",
       "/robots.txt                                        168\n",
       "                                                  ... \n",
       "/phpmyadmin2018/index.php?lang=en                    1\n",
       "/program/index.php?lang=en                           1\n",
       "/2phpmyadmin/index.php?lang=en                       1\n",
       "/_phpmyadmin/index.php?lang=en                       1\n",
       "/boaform/admin/formLogin?username=user&psd=user      1\n",
       "Name: endpoint, Length: 583, dtype: int64"
      ]
     },
     "execution_count": 26,
     "metadata": {},
     "output_type": "execute_result"
    }
   ],
   "source": [
    "panda_logs_df['endpoint'].value_counts()"
   ]
  },
  {
   "cell_type": "code",
   "execution_count": 27,
   "id": "ace102a3-839c-4ef9-9871-d891ab1cecfe",
   "metadata": {
    "tags": []
   },
   "outputs": [
    {
     "data": {
      "text/plain": [
       "HTTP/1.1                                                                                                                                                                                                                                                                                                                                                                                                                                                                                                                                                                                                                                                                                                                                                                                                                                                                                                    5200\n",
       "\"-                                                                                                                                                                                                                                                                                                                                                                                                                                                                                                                                                                                                                                                                                                                                                                                                                                                                                                           716\n",
       "                                                                                                                                                                                                                                                                                                                                                                                                                                                                                                                                                                                                                                                                                                                                                                                                                                                                                                             172\n",
       "HTTP/1.0                                                                                                                                                                                                                                                                                                                                                                                                                                                                                                                                                                                                                                                                                                                                                                                                                                                                                                      57\n",
       "HTTP/2.0                                                                                                                                                                                                                                                                                                                                                                                                                                                                                                                                                                                                                                                                                                                                                                                                                                                                                                      40\n",
       "world                                                                                                                                                                                                                                                                                                                                                                                                                                                                                                                                                                                                                                                                                                                                                                                                                                                                                                         11\n",
       "\\x00\\x00\\x00\\x00\\x00\\x00\\x00\\x00\\x00\\x92\\x06\\xFB\\x01\\x00\\x00\\xFE\\xFF\\xFF\\xFF\\x01                                                                                                                                                                                                                                                                                                                                                                                                                                                                                                                                                                                                                                                                                                                                                                                                                               4\n",
       ",)\\xEA\\x85_\\x16I(\\x86\\x8B?\\xADXx\\xD7\\xE7\\xB67\\x83\\xF1\\xFC;\\x83\\xC8\\x0F\\xAE\\xDD\\x1A\\xCA\\xBF\\xD3\\xF0\\x98\\xAA\\xD9=\\xD0\\xD0\\xD6\\xEF\\xABQZ`\\xBCrhc@[\\x9Cz\\xEA\\x8AJ|\\x8F\\xEF\\x86V\\x11\\xDC\\xBB\\x5C\\xF8T\\xF3=\\x9B\\xAF\\x11\\xBD8\\x96\\xAD\\xE7e~`ov\\xCC\\xB6\\xCA\\xDE\\xB78\\xDC\\xD88w9\\x91\\x8C\\xD1\\xDE/\\x98\\xCA\\x8D%\\xDC\\x85+sb\\xAE\\xE5&\\xCA\\x08\\x06\\xFF\\x9Ev\\xA5\\x96\\xED\\x0F\\xBC\\xEA2\\xFA\\x1F7\\x03\\xC9g\\x83)TF$H\\xA8\\xD2\\xA24\\x91\\x80\\xABg\\x0CF+\\xBFx*w\\x19\\x01\\x0E\\xFF\\xCF\\x1B\\xA8\\x9AJrF.\\x0B\\x9D\\x84\\xF2\\xEE\\x80Y\\x18\\xD4\\x12\\xFE\\x14\\x89\\x9B\\x8C\\x9AL6\\x17\\x09\\xF25\\x5C\\xEDb\\x02\\x89\\xCD\\xA7|\\xC9zL\\x97\\x81\\x92\\x96\\xA3\\xC4g\\xB4(\\xE3k\\x82Gk\\xC1\\x90B\\xE6][\\xE1\\x02\\x9B\\x86?Tua\\x1C\\xE0\\xFC\\x9F\\x8D\\xEB\\x01\\xAB\\xC0\\xE5\\xD6\\x98\\xD5\\xE0<\\x93\\xEA\\x00\\x8DT\\xE9\\x05\\x04y-G\\x0E\\xC5R\\x0E\\x18\\xF4\\xC1\\xD6\\x8E\\xBDi\\xBBf\\xBC1Z-\\xFD\\x90N\\x16\\x81\\x07C*mk\\x11\\xBCZ\\x02\\x85\\x95a\\xDE\\xAB\\xA8\\xB7\\xA3\\xA7;\\x19\\xDE\\xB3\\xD7       3\n",
       "\\xD7\\x92\\x9Al\\x82<D\\xCCg(\\xB1\\x00\\x00\\x1A\\xC0/\\xC0+\\xC0\\x11\\xC0\\x07\\xC0\\x13\\xC0\\x09\\xC0\\x14\\xC0                                                                                                                                                                                                                                                                                                                                                                                                                                                                                                                                                                                                                                                                                                                                                                                                                1\n",
       "\\xC0/\\xC00\\xC0+\\xC0,\\xCC\\xA8\\xCC\\xA9\\xC0\\x13\\xC0\\x09\\xC0\\x14\\xC0                                                                                                                                                                                                                                                                                                                                                                                                                                                                                                                                                                                                                                                                                                                                                                                                                                               1\n",
       "?\\xCD\\xF7\\xEE\\xA5\\xCE\\xFFm\\xE9\\xD6\\xF9\\x125\\xC3\\x0E\\xC3Da\\xA8\\x00&\\xC0+\\xC0/\\xC0,\\xC00\\xCC\\xA9\\xCC\\xA8\\xC0\\x09\\xC0\\x13\\xC0                                                                                                                                                                                                                                                                                                                                                                                                                                                                                                                                                                                                                                                                                                                                                                                     1\n",
       "\\xC2\\xFD\\x09\\xAA\\xC3\\x8B\\xE6\\xEERE\\x88\\xD9\\xE0j\\xA8\\xA0O\\x10\\xF9\\xEFJy\\xEF\\xD1\\x8B\\xDA\\xE5\\xEB\\x9189\\x9C\\x00b\\x13\\x02\\x13\\x03\\x13\\x01\\xC0,\\xC00\\xC0+\\xC0/\\xCC\\xA9\\xCC\\xA8\\x00\\xA3\\x00\\x9F\\x00\\xA2\\x00\\x9E\\xCC\\xAA\\xC0\\xAF\\xC0\\xAD\\xC0$\\xC0(\\xC0                                                                                                                                                                                                                                                                                                                                                                                                                                                                                                                                                                                                                                                                1\n",
       "\\xE7qG\\xD3\\x8C\\xBFfD\\xE2C\\xBD+-\\xCD6\\x99(\\x1D:Q>\\xC96\\xA0\\x1B\\x84\\xABq\\xAB1\\xAAH\\x00b\\x13\\x02\\x13\\x03\\x13\\x01\\xC0,\\xC00\\xC0+\\xC0/\\xCC\\xA9\\xCC\\xA8\\x00\\xA3\\x00\\x9F\\x00\\xA2\\x00\\x9E\\xCC\\xAA\\xC0\\xAF\\xC0\\xAD\\xC0$\\xC0(\\xC0                                                                                                                                                                                                                                                                                                                                                                                                                                                                                                                                                                                                                                                                                        1\n",
       "\\x93\\x85xbY:!\\xA6\\xAF\\xFC\\x99\\xFC\\x7FQv\\x99$4\\x125\\xC1r=G\\x03\\x95\\xC9\\x0Boa\\xFCO\\x00&\\xC0+\\xC0/\\xC0,\\xC00\\xCC\\xA9\\xCC\\xA8\\xC0\\x09\\xC0\\x13\\xC0                                                                                                                                                                                                                                                                                                                                                                                                                                                                                                                                                                                                                                                                                                                                                                  1\n",
       "\\xB1fC\\x90\\xB1N\\xBF7\\xF7\\xA6T\\x1Ede\\x81\\x91<\\x15\\xEE\\xDD\\xFA\\x8C9I\\x00&\\xC0+\\xC0/\\xC0,\\xC00\\xCC\\xA9\\xCC\\xA8\\xC0\\x09\\xC0\\x13\\xC0                                                                                                                                                                                                                                                                                                                                                                                                                                                                                                                                                                                                                                                                                                                                                                                1\n",
       "\\x16V;m\\xC3\\x10\\xA2`\\x1D\\x9F\\xED\\xF3,I?\\x85\\xDA\\x0B\\xA5Kvv:\\xF0[\\xCC\\x9D\\x0F\\x01\\x8DL\\xA6\\x00&\\xC0+\\xC0/\\xC0,\\xC00\\xCC\\xA9\\xCC\\xA8\\xC0\\x09\\xC0\\x13\\xC0                                                                                                                                                                                                                                                                                                                                                                                                                                                                                                                                                                                                                                                                                                                                                         1\n",
       "\\xB2\\x0CA\\xFA\\x05\\xBD\\x0B\\xE5>\\xBB\\xFB`.\\xA3\\xF07\\x5C\\xEF\\x0F\\x80\\xE9\\xDA\\x10+\\x00&\\xC0+\\xC0/\\xC0,\\xC00\\xCC\\xA9\\xCC\\xA8\\xC0\\x09\\xC0\\x13\\xC0                                                                                                                                                                                                                                                                                                                                                                                                                                                                                                                                                                                                                                                                                                                                                                    1\n",
       "\\xF8\\xF8\\x13\\x8C\\xC2\\x15\\x08\\xFA\\xBB\\xB1\\x22\\x86\\x03S\\xAA\\xA03x\\x14s\\xE3uq\\x05I\\xD9\\x93U\\x93\\x1Dq\\x14\\x00&\\xC0+\\xC0/\\xC0,\\xC00\\xCC\\xA9\\xCC\\xA8\\xC0\\x09\\xC0\\x13\\xC0                                                                                                                                                                                                                                                                                                                                                                                                                                                                                                                                                                                                                                                                                                                                             1\n",
       "\\xDD\\xE6z\\xAC<*\\xB2\\x90\\xCF\\x80s\\xFAt\\xBD,\\xF0)\\xDA\\xC0c\\xE5\\xD2\\xC7\\xB7R\\xB9\\xCD\\xE4y\\xF9\\x1B^\\x00&\\xC0+\\xC0/\\xC0,\\xC00\\xCC\\xA9\\xCC\\xA8\\xC0\\x09\\xC0\\x13\\xC0                                                                                                                                                                                                                                                                                                                                                                                                                                                                                                                                                                                                                                                                                                                                                   1\n",
       "\\x80d$d\\xDF\\xDC\\x0BEk\\x00&\\xC0+\\xC0/\\xC0,\\xC00\\xCC\\xA9\\xCC\\xA8\\xC0\\x09\\xC0\\x13\\xC0                                                                                                                                                                                                                                                                                                                                                                                                                                                                                                                                                                                                                                                                                                                                                                                                                             1\n",
       "=\\xA0_\\xD9\\xB8;\\x1A\\xA5\\x0BLbuVgmNz\\xA77\\xBB5?\\x15^A\\xC3\\xF4\\x81\\x15\\x00&\\xC0+\\xC0/\\xC0,\\xC00\\xCC\\xA9\\xCC\\xA8\\xC0\\x09\\xC0\\x13\\xC0                                                                                                                                                                                                                                                                                                                                                                                                                                                                                                                                                                                                                                                                                                                                                                              1\n",
       "\\xF0                                                                                                                                                                                                                                                                                                                                                                                                                                                                                                                                                                                                                                                                                                                                                                                                                                                                                                           1\n",
       "I\\xE5\\x12\\xFB4zo\\xD7\\x09\\xDD\\xCC\\xF4G\\x81\\xBF\\xCC                                                                                                                                                                                                                                                                                                                                                                                                                                                                                                                                                                                                                                                                                                                                                                                                                                                              1\n",
       "Name: protocol, dtype: int64"
      ]
     },
     "execution_count": 27,
     "metadata": {},
     "output_type": "execute_result"
    }
   ],
   "source": [
    "panda_logs_df['protocol'].value_counts()"
   ]
  },
  {
   "cell_type": "code",
   "execution_count": 28,
   "id": "5b1f728f-dda4-4504-9147-1ceede3fecd5",
   "metadata": {
    "tags": []
   },
   "outputs": [
    {
     "data": {
      "text/plain": [
       "301.0    1948\n",
       "400.0    1658\n",
       "200.0    1605\n",
       "404.0     486\n",
       "302.0      12\n",
       "405.0      11\n",
       "206.0      10\n",
       "204.0       4\n",
       "304.0       1\n",
       "500.0       1\n",
       "Name: status, dtype: int64"
      ]
     },
     "execution_count": 28,
     "metadata": {},
     "output_type": "execute_result"
    }
   ],
   "source": [
    "panda_logs_df['status'].value_counts()"
   ]
  },
  {
   "cell_type": "code",
   "execution_count": 29,
   "id": "1dc7ebdc-877b-48e5-b701-937f05f3011f",
   "metadata": {
    "tags": []
   },
   "outputs": [
    {
     "data": {
      "text/plain": [
       "169.0       1942\n",
       "150.0        681\n",
       "0.0          619\n",
       "5952.0       393\n",
       "157.0        310\n",
       "            ... \n",
       "359963.0       1\n",
       "458267.0       1\n",
       "687643.0       1\n",
       "425499.0       1\n",
       "605728.0       1\n",
       "Name: content_size, Length: 122, dtype: int64"
      ]
     },
     "execution_count": 29,
     "metadata": {},
     "output_type": "execute_result"
    }
   ],
   "source": [
    "panda_logs_df['content_size'].value_counts()"
   ]
  },
  {
   "cell_type": "markdown",
   "id": "ee0706a8-88b7-4352-867a-c5f568e9a4e1",
   "metadata": {},
   "source": [
    "# Finding Missing Values"
   ]
  },
  {
   "cell_type": "code",
   "execution_count": 30,
   "id": "47aad781-77c2-4a24-adb2-4711182c9e37",
   "metadata": {
    "tags": []
   },
   "outputs": [
    {
     "data": {
      "text/plain": [
       "0"
      ]
     },
     "execution_count": 30,
     "metadata": {},
     "output_type": "execute_result"
    }
   ],
   "source": [
    "(base_df.filter(base_df['value'].isNull()).count())"
   ]
  },
  {
   "cell_type": "markdown",
   "id": "1a445b2c-ba44-4e5c-ac79-c3a7832b7ba6",
   "metadata": {},
   "source": [
    "##  testing for all possible null values"
   ]
  },
  {
   "cell_type": "code",
   "execution_count": 31,
   "id": "a4812867-8b36-4c29-b969-4fc54b500763",
   "metadata": {
    "tags": []
   },
   "outputs": [
    {
     "data": {
      "text/plain": [
       "482"
      ]
     },
     "execution_count": 31,
     "metadata": {},
     "output_type": "execute_result"
    }
   ],
   "source": [
    "bad_rows_df = logs_df.filter(logs_df['host'].isNull()| \n",
    "                             logs_df['timestamp'].isNull() | \n",
    "                             logs_df['method'].isNull() |\n",
    "                             logs_df['endpoint'].isNull() |\n",
    "                             logs_df['status'].isNull() |\n",
    "                             logs_df['content_size'].isNull()|\n",
    "                             logs_df['protocol'].isNull())\n",
    "bad_rows_df.count()"
   ]
  },
  {
   "cell_type": "markdown",
   "id": "89b275a0-3561-4df1-af91-a9141ddd3649",
   "metadata": {},
   "source": [
    "## Finding Null Counts"
   ]
  },
  {
   "cell_type": "code",
   "execution_count": 32,
   "id": "cfbb850d-5490-4db2-9aa0-60b95e601c4f",
   "metadata": {
    "tags": []
   },
   "outputs": [
    {
     "name": "stderr",
     "output_type": "stream",
     "text": [
      "[Stage 17:===========================================>              (3 + 1) / 4]\r"
     ]
    },
    {
     "name": "stdout",
     "output_type": "stream",
     "text": [
      "+----+---------+------+--------+--------+------+------------+\n",
      "|host|timestamp|method|endpoint|protocol|status|content_size|\n",
      "+----+---------+------+--------+--------+------+------------+\n",
      "|   0|        0|     0|       0|       0|   482|         482|\n",
      "+----+---------+------+--------+--------+------+------------+\n",
      "\n"
     ]
    },
    {
     "name": "stderr",
     "output_type": "stream",
     "text": [
      "                                                                                \r"
     ]
    }
   ],
   "source": [
    "from pyspark.sql.functions import col\n",
    "from pyspark.sql.functions import sum as spark_sum\n",
    "\n",
    "def count_null(col_name):\n",
    "    return spark_sum(col(col_name).isNull().cast('integer')).alias(col_name)\n",
    "\n",
    "# Build up a list of column expressions, one per column.\n",
    "exprs = [count_null(col_name) for col_name in logs_df.columns]\n",
    "\n",
    "# Run the aggregation. The *exprs converts the list of expressions into\n",
    "# variable function arguments.\n",
    "logs_df.agg(*exprs).show()"
   ]
  },
  {
   "cell_type": "code",
   "execution_count": 33,
   "id": "1434de44-3d5b-437c-a40f-abee0db4bd1b",
   "metadata": {
    "tags": []
   },
   "outputs": [
    {
     "data": {
      "text/plain": [
       "Column<'CAST(regexp_extract(value, \\s(\\d{3})\\s, 1) AS INT) AS status'>"
      ]
     },
     "execution_count": 33,
     "metadata": {},
     "output_type": "execute_result"
    }
   ],
   "source": [
    "regexp_extract('value', r'\\s(\\d{3})\\s', 1).cast('integer').alias( 'status')"
   ]
  },
  {
   "cell_type": "code",
   "execution_count": 34,
   "id": "d6b8bc02-0085-4609-a5b8-980ceb09723d",
   "metadata": {
    "tags": []
   },
   "outputs": [
    {
     "data": {
      "text/plain": [
       "482"
      ]
     },
     "execution_count": 34,
     "metadata": {},
     "output_type": "execute_result"
    }
   ],
   "source": [
    "null_status_df = base_df.filter(~base_df['value'].rlike(r'\\s(\\d{3})\\s'))\n",
    "null_status_df.count()"
   ]
  },
  {
   "cell_type": "code",
   "execution_count": 35,
   "id": "45c1c4d3-b087-44f0-8ca7-dbe75072d5bc",
   "metadata": {
    "tags": []
   },
   "outputs": [
    {
     "name": "stdout",
     "output_type": "stream",
     "text": [
      "+---------------------------------------------------------------------------------------------------------------------------------------------------------------------------------------------------------------------------------------------------------------------------------------------------------------------------------------------------------------------------------------------------+\n",
      "|value                                                                                                                                                                                                                                                                                                                                                                                              |\n",
      "+---------------------------------------------------------------------------------------------------------------------------------------------------------------------------------------------------------------------------------------------------------------------------------------------------------------------------------------------------------------------------------------------------+\n",
      "|2023/02/19 03:48:22 [error] 28450#28450: *3278 open() \"/var/www/html/manager/html\" failed (2: No such file or directory), client: 111.39.27.13, server: uan.cdacb.in, request: \"GET /manager/html HTTP/1.1\", host: \"14.139.152.12\"                                                                                                                                                                 |\n",
      "|2023/02/19 04:02:28 [error] 28450#28450: *3287 open() \"/var/www/html/sitemap.xml\" failed (2: No such file or directory), client: 8.219.181.245, server: uan.cdacb.in, request: \"GET /sitemap.xml HTTP/1.1\", host: \"14.139.152.12\"                                                                                                                                                                  |\n",
      "|2023/02/19 04:02:28 [error] 28450#28450: *3288 open() \"/var/www/html/robots.txt\" failed (2: No such file or directory), client: 8.219.181.245, server: uan.cdacb.in, request: \"GET /robots.txt HTTP/1.1\", host: \"14.139.152.12\"                                                                                                                                                                    |\n",
      "|2023/02/19 04:02:30 [error] 28450#28450: *3291 open() \"/var/www/html/sitemap.xml\" failed (2: No such file or directory), client: 8.219.181.245, server: uan.cdacb.in, request: \"GET /sitemap.xml HTTP/1.1\", host: \"14.139.152.12\"                                                                                                                                                                  |\n",
      "|2023/02/19 04:02:30 [error] 28446#28446: *3292 open() \"/var/www/html/robots.txt\" failed (2: No such file or directory), client: 8.219.181.245, server: uan.cdacb.in, request: \"GET /robots.txt HTTP/1.1\", host: \"14.139.152.12\"                                                                                                                                                                    |\n",
      "|2023/02/19 05:09:22 [error] 28450#28450: *3310 open() \"/var/www/html/.env\" failed (2: No such file or directory), client: 109.237.97.180, server: uan.cdacb.in, request: \"GET /.env HTTP/1.1\", host: \"14.139.152.12\"                                                                                                                                                                               |\n",
      "|2023/02/19 05:25:01 [error] 28450#28450: *3315 open() \"/var/www/html/sitemap.xml\" failed (2: No such file or directory), client: 8.222.134.146, server: uan.cdacb.in, request: \"GET /sitemap.xml HTTP/1.1\", host: \"14.139.152.12\"                                                                                                                                                                  |\n",
      "|2023/02/19 05:25:01 [error] 28450#28450: *3317 open() \"/var/www/html/robots.txt\" failed (2: No such file or directory), client: 8.222.134.146, server: uan.cdacb.in, request: \"GET /robots.txt HTTP/1.1\", host: \"14.139.152.12\"                                                                                                                                                                    |\n",
      "|2023/02/19 06:03:30 [error] 28450#28450: *3328 open() \"/var/www/html/Electron/download/windows/\\Program Files\\3CX Phone System\\Data\\DB\\base\\16384\\16393\" failed (2: No such file or directory), client: 196.11.231.60, server: uan.cdacb.in, request: \"GET /Electron/download/windows/%5CProgram%20Files%5C3CX%20Phone%20System%5CData%5CDB%5Cbase%5C16384%5C16393 HTTP/1.1\", host: \"14.139.152.12\"|\n",
      "|2023/02/19 06:16:15 [error] 28450#28450: *3335 open() \"/var/www/html/favicon.ico\" failed (2: No such file or directory), client: 162.142.125.212, server: uan.cdacb.in, request: \"GET /favicon.ico HTTP/1.1\", host: \"14.139.152.12\"                                                                                                                                                                |\n",
      "|2023/02/19 06:41:10 [error] 28450#28450: *3348 open() \"/var/www/html/favicon.ico\" failed (2: No such file or directory), client: 167.94.138.119, server: uan.cdacb.in, request: \"GET /favicon.ico HTTP/1.1\", host: \"14.139.152.12\"                                                                                                                                                                 |\n",
      "|2023/02/19 07:00:22 [error] 28437#28437: *3350 open() \"/var/www/html/cgi-bin/config.exp\" failed (2: No such file or directory), client: 128.14.141.34, server: uan.cdacb.in, request: \"GET /cgi-bin/config.exp HTTP/1.1\", host: \"14.139.152.12\"                                                                                                                                                    |\n",
      "|2023/02/19 07:18:48 [error] 28450#28450: *3356 open() \"/var/www/html/actuator/gateway/routes\" failed (2: No such file or directory), client: 152.89.196.211, server: uan.cdacb.in, request: \"GET /actuator/gateway/routes HTTP/1.1\", host: \"14.139.152.12:443\"                                                                                                                                     |\n",
      "|2023/02/19 09:28:30 [error] 28450#28450: *3371 open() \"/var/www/html/favicon.ico\" failed (2: No such file or directory), client: 167.94.145.60, server: uan.cdacb.in, request: \"GET /favicon.ico HTTP/1.1\", host: \"14.139.152.12\"                                                                                                                                                                  |\n",
      "|2023/02/19 09:42:42 [error] 28443#28443: *3374 open() \"/var/www/html/robots.txt\" failed (2: No such file or directory), client: 66.249.70.86, server: uan.cdacb.in, request: \"GET /robots.txt HTTP/1.1\", host: \"uan.cdacb.in\"                                                                                                                                                                      |\n",
      "|2023/02/19 10:13:44 [error] 28449#28449: *3378 open() \"/var/www/html/actuator/health\" failed (2: No such file or directory), client: 198.199.115.100, server: uan.cdacb.in, request: \"GET /actuator/health HTTP/1.1\", host: \"14.139.152.12\"                                                                                                                                                        |\n",
      "|2023/02/19 12:04:29 [error] 28450#28450: *3394 open() \"/var/www/html/favicon.ico\" failed (2: No such file or directory), client: 162.142.125.220, server: uan.cdacb.in, request: \"GET /favicon.ico HTTP/1.1\", host: \"14.139.152.12\"                                                                                                                                                                |\n",
      "|2023/02/19 17:42:56 [error] 28446#28446: *3440 open() \"/var/www/html/favicon.ico\" failed (2: No such file or directory), client: 167.248.133.46, server: uan.cdacb.in, request: \"GET /favicon.ico HTTP/1.1\", host: \"14.139.152.12\"                                                                                                                                                                 |\n",
      "|2023/02/19 17:53:07 [error] 28450#28450: *3457 open() \"/var/www/html/.env\" failed (2: No such file or directory), client: 182.66.82.11, server: uan.cdacb.in, request: \"GET /.env HTTP/1.1\", host: \"uan.cdacb.in\"                                                                                                                                                                                  |\n",
      "|2023/02/19 17:53:09 [error] 28450#28450: *3458 open() \"/var/www/html/.env\" failed (2: No such file or directory), client: 182.66.82.11, server: uan.cdacb.in, request: \"GET /.env HTTP/1.1\", host: \"uan.cdacb.in\"                                                                                                                                                                                  |\n",
      "+---------------------------------------------------------------------------------------------------------------------------------------------------------------------------------------------------------------------------------------------------------------------------------------------------------------------------------------------------------------------------------------------------+\n",
      "only showing top 20 rows\n",
      "\n"
     ]
    }
   ],
   "source": [
    "null_status_df.show(truncate=False)"
   ]
  },
  {
   "cell_type": "markdown",
   "id": "58ba8c58-410f-4d25-82aa-aea3cab3eb48",
   "metadata": {},
   "source": [
    "### passing missing information through our log data parsing pipeline."
   ]
  },
  {
   "cell_type": "code",
   "execution_count": 36,
   "id": "d8c7b581-e303-4e2e-8c0b-4973fb57e86f",
   "metadata": {
    "tags": []
   },
   "outputs": [
    {
     "name": "stdout",
     "output_type": "stream",
     "text": [
      "+----+---------+------+-------------------------------------------------------------------------------------------------------+--------+------+------------+\n",
      "|host|timestamp|method|endpoint                                                                                               |protocol|status|content_size|\n",
      "+----+---------+------+-------------------------------------------------------------------------------------------------------+--------+------+------------+\n",
      "|    |         |GET   |/manager/html                                                                                          |HTTP/1.1|null  |null        |\n",
      "|    |         |GET   |/sitemap.xml                                                                                           |HTTP/1.1|null  |null        |\n",
      "|    |         |GET   |/robots.txt                                                                                            |HTTP/1.1|null  |null        |\n",
      "|    |         |GET   |/sitemap.xml                                                                                           |HTTP/1.1|null  |null        |\n",
      "|    |         |GET   |/robots.txt                                                                                            |HTTP/1.1|null  |null        |\n",
      "|    |         |GET   |/.env                                                                                                  |HTTP/1.1|null  |null        |\n",
      "|    |         |GET   |/sitemap.xml                                                                                           |HTTP/1.1|null  |null        |\n",
      "|    |         |GET   |/robots.txt                                                                                            |HTTP/1.1|null  |null        |\n",
      "|    |         |GET   |/Electron/download/windows/%5CProgram%20Files%5C3CX%20Phone%20System%5CData%5CDB%5Cbase%5C16384%5C16393|HTTP/1.1|null  |null        |\n",
      "|    |         |GET   |/favicon.ico                                                                                           |HTTP/1.1|null  |null        |\n",
      "|    |         |GET   |/favicon.ico                                                                                           |HTTP/1.1|null  |null        |\n",
      "|    |         |GET   |/cgi-bin/config.exp                                                                                    |HTTP/1.1|null  |null        |\n",
      "|    |         |GET   |/actuator/gateway/routes                                                                               |HTTP/1.1|null  |null        |\n",
      "|    |         |GET   |/favicon.ico                                                                                           |HTTP/1.1|null  |null        |\n",
      "|    |         |GET   |/robots.txt                                                                                            |HTTP/1.1|null  |null        |\n",
      "|    |         |GET   |/actuator/health                                                                                       |HTTP/1.1|null  |null        |\n",
      "|    |         |GET   |/favicon.ico                                                                                           |HTTP/1.1|null  |null        |\n",
      "|    |         |GET   |/favicon.ico                                                                                           |HTTP/1.1|null  |null        |\n",
      "|    |         |GET   |/.env                                                                                                  |HTTP/1.1|null  |null        |\n",
      "|    |         |GET   |/.env                                                                                                  |HTTP/1.1|null  |null        |\n",
      "+----+---------+------+-------------------------------------------------------------------------------------------------------+--------+------+------------+\n",
      "only showing top 20 rows\n",
      "\n"
     ]
    }
   ],
   "source": [
    "bad_status_df = null_status_df.select(regexp_extract('value', host_pattern, 1).alias('host'),\n",
    "                                      regexp_extract('value', ts_pattern, 1).alias('timestamp'),\n",
    "                                      regexp_extract('value', method_uri_protocol_pattern, 1).alias('method'),\n",
    "                                      regexp_extract('value', method_uri_protocol_pattern, 2).alias('endpoint'),\n",
    "                                      regexp_extract('value', method_uri_protocol_pattern, 3).alias('protocol'),\n",
    "                                      regexp_extract('value', status_pattern, 1).cast('integer').alias('status'),\n",
    "                                      regexp_extract('value', content_size_pattern, 1).cast('integer').alias('content_size'))\n",
    "bad_status_df.show(truncate=False)"
   ]
  },
  {
   "cell_type": "code",
   "execution_count": 37,
   "id": "5255d13f-48b0-430f-bc5d-b0d1ab40707c",
   "metadata": {
    "tags": []
   },
   "outputs": [
    {
     "name": "stdout",
     "output_type": "stream",
     "text": [
      "+----+---------+------+--------+--------+------+------------+\n",
      "|host|timestamp|method|endpoint|protocol|status|content_size|\n",
      "+----+---------+------+--------+--------+------+------------+\n",
      "|   0|        0|     0|       0|       0|     0|           0|\n",
      "+----+---------+------+--------+--------+------+------------+\n",
      "\n"
     ]
    }
   ],
   "source": [
    "logs_df = logs_df[logs_df['status'].isNotNull()]\n",
    "exprs = [count_null(col_name) for col_name in logs_df.columns]\n",
    "logs_df.agg(*exprs).show()"
   ]
  },
  {
   "cell_type": "code",
   "execution_count": 38,
   "id": "b08a48c5-9d31-4183-84ff-53f8dd2d2762",
   "metadata": {
    "tags": []
   },
   "outputs": [
    {
     "data": {
      "text/plain": [
       "Column<'CAST(regexp_extract(value, \\s(\\d+)$, 1) AS INT) AS content_size'>"
      ]
     },
     "execution_count": 38,
     "metadata": {},
     "output_type": "execute_result"
    }
   ],
   "source": [
    "regexp_extract('value', r'\\s(\\d+)$', 1).cast('integer').alias('content_size')"
   ]
  },
  {
   "cell_type": "code",
   "execution_count": 39,
   "id": "e844bcce-4416-44a8-b902-e1d9b6743f27",
   "metadata": {
    "tags": []
   },
   "outputs": [
    {
     "data": {
      "text/plain": [
       "6218"
      ]
     },
     "execution_count": 39,
     "metadata": {},
     "output_type": "execute_result"
    }
   ],
   "source": [
    "null_content_size_df = base_df.filter(~base_df['value'].rlike(r'\\s\\d+$'))\n",
    "null_content_size_df.count()"
   ]
  },
  {
   "cell_type": "code",
   "execution_count": 40,
   "id": "39e7ca4d-ebb0-4cd4-a2a3-6f9f7fa69cc4",
   "metadata": {
    "tags": []
   },
   "outputs": [
    {
     "data": {
      "text/plain": [
       "[Row(value='143.244.50.172 - - [16/Feb/2023:03:28:45 +0530] \"GET /config/getuser?index=0 HTTP/1.1\" 400 248 \"-\" \"Mozilla/5.0 (X11; Ubuntu; Linux x86_64; rv:76.0) Gecko/20100101 Firefox/76.0\"'),\n",
       " Row(value='164.90.235.116 - - [16/Feb/2023:04:11:34 +0530] \"GET / HTTP/1.1\" 200 5952 \"http://14.139.152.12/\" \"Mozilla/5.0 (Windows NT 10.0; Win64; x64) AppleWebKit/537.36 (KHTML, like Gecko) Chrome/108.0.0.0 Safari/537.36\"'),\n",
       " Row(value='66.249.69.126 - - [16/Feb/2023:04:39:52 +0530] \"GET /robots.txt HTTP/1.1\" 404 146 \"-\" \"Mozilla/5.0 (compatible; Googlebot/2.1; +http://www.google.com/bot.html)\"'),\n",
       " Row(value='66.249.69.126 - - [16/Feb/2023:04:39:52 +0530] \"GET /assets/img/favicon.png HTTP/1.1\" 200 491 \"-\" \"Googlebot-Image/1.0\"'),\n",
       " Row(value='185.221.219.172 - - [16/Feb/2023:05:06:47 +0530] \"GET /.git/config HTTP/1.1\" 404 548 \"-\" \"Mozilla/5.0 (compatible; MSIE 9.0; Windows NT 6.2; Trident/5.0)\"'),\n",
       " Row(value='66.249.69.101 - - [16/Feb/2023:05:24:52 +0530] \"GET /apim/devportal/site/public/images/logo.svg HTTP/1.1\" 304 0 \"-\" \"Googlebot-Image/1.0\"'),\n",
       " Row(value='52.167.144.90 - - [16/Feb/2023:06:26:16 +0530] \"GET / HTTP/1.1\" 200 5952 \"-\" \"Mozilla/5.0 AppleWebKit/537.36 (KHTML, like Gecko; compatible; bingbot/2.0; +http://www.bing.com/bingbot.htm) Chrome/103.0.5060.134 Safari/537.36\"'),\n",
       " Row(value='152.89.196.211 - - [16/Feb/2023:07:00:15 +0530] \"GET /vendor/phpunit/phpunit/src/Util/PHP/eval-stdin.php HTTP/1.1\" 404 548 \"http://14.139.152.12:80/vendor/phpunit/phpunit/src/Util/PHP/eval-stdin.php\" \"Mozilla/5.0 (Windows NT 10.0; Win64; x64) AppleWebKit/537.36 (KHTML, like Gecko) Chrome/78.0.3904.108 Safari/537.36\"'),\n",
       " Row(value='114.119.133.53 - - [16/Feb/2023:07:01:52 +0530] \"GET /robots.txt HTTP/1.1\" 404 146 \"-\" \"Mozilla/5.0 (compatible;PetalBot;+https://webmaster.petalsearch.com/site/petalbot)\"'),\n",
       " Row(value='198.20.69.98 - - [16/Feb/2023:07:26:00 +0530] \"GET / HTTP/1.1\" 200 5952 \"-\" \"Mozilla/5.0 (X11; Linux x86_64) AppleWebKit/537.36 (KHTML, like Gecko) Chrome/98.0.4758.102 Safari/537.36\"')]"
      ]
     },
     "execution_count": 40,
     "metadata": {},
     "output_type": "execute_result"
    }
   ],
   "source": [
    "null_content_size_df.take(10)"
   ]
  },
  {
   "cell_type": "markdown",
   "id": "2715d18d-6a9d-45c3-a603-e07ac4b6e106",
   "metadata": {},
   "source": [
    "It is quite evident that the bad raw data records correspond to error responses, where no content was sent back and the server emitted a “-\" for the content_size field."
   ]
  },
  {
   "cell_type": "code",
   "execution_count": 41,
   "id": "5b8f0c10-9fee-4b5d-b636-9501022276fe",
   "metadata": {
    "tags": []
   },
   "outputs": [
    {
     "name": "stdout",
     "output_type": "stream",
     "text": [
      "+----+---------+------+--------+--------+------+------------+\n",
      "|host|timestamp|method|endpoint|protocol|status|content_size|\n",
      "+----+---------+------+--------+--------+------+------------+\n",
      "|   0|        0|     0|       0|       0|     0|           0|\n",
      "+----+---------+------+--------+--------+------+------------+\n",
      "\n"
     ]
    }
   ],
   "source": [
    "logs_df = logs_df.na.fill({'content_size': 0})\n",
    "exprs = [count_null(col_name) for col_name in logs_df.columns]\n",
    "logs_df.agg(*exprs).show()"
   ]
  },
  {
   "cell_type": "code",
   "execution_count": 42,
   "id": "972b9755-3754-4573-99b2-3694bc57ad81",
   "metadata": {
    "tags": []
   },
   "outputs": [
    {
     "name": "stdout",
     "output_type": "stream",
     "text": [
      "+---------------+--------------------+------+--------------------+--------+------+------------+\n",
      "|           host|           timestamp|method|            endpoint|protocol|status|content_size|\n",
      "+---------------+--------------------+------+--------------------+--------+------+------------+\n",
      "| 143.244.50.172|16/Feb/2023:03:28:45|   GET|/config/getuser?i...|HTTP/1.1|   400|         248|\n",
      "| 164.90.235.116|16/Feb/2023:04:11:34|   GET|                   /|HTTP/1.1|   200|        5952|\n",
      "|  66.249.69.126|16/Feb/2023:04:39:52|   GET|         /robots.txt|HTTP/1.1|   404|         146|\n",
      "|  66.249.69.126|16/Feb/2023:04:39:52|   GET|/assets/img/favic...|HTTP/1.1|   200|         491|\n",
      "|185.221.219.172|16/Feb/2023:05:06:47|   GET|        /.git/config|HTTP/1.1|   404|         548|\n",
      "|  66.249.69.101|16/Feb/2023:05:24:52|   GET|/apim/devportal/s...|HTTP/1.1|   304|           0|\n",
      "|  52.167.144.90|16/Feb/2023:06:26:16|   GET|                   /|HTTP/1.1|   200|        5952|\n",
      "| 152.89.196.211|16/Feb/2023:07:00:15|   GET|/vendor/phpunit/p...|HTTP/1.1|   404|         548|\n",
      "| 114.119.133.53|16/Feb/2023:07:01:52|   GET|         /robots.txt|HTTP/1.1|   404|         146|\n",
      "|   198.20.69.98|16/Feb/2023:07:26:00|   GET|                   /|HTTP/1.1|   200|        5952|\n",
      "|   198.20.69.98|16/Feb/2023:07:26:16|    -\"|                  \"-|        |   400|           0|\n",
      "|   198.20.69.98|16/Feb/2023:07:26:20|    -\"|                  \"-|        |   400|           0|\n",
      "|   198.20.69.98|16/Feb/2023:07:26:21|    -\"|                  \"-|        |   400|           0|\n",
      "|   198.20.69.98|16/Feb/2023:07:26:24|    -\"|                  \"-|        |   400|           0|\n",
      "|   198.20.69.98|16/Feb/2023:07:26:30|   GET|         /robots.txt|HTTP/1.1|   404|         146|\n",
      "|   198.20.69.98|16/Feb/2023:07:26:32|   GET|        /sitemap.xml|HTTP/1.1|   404|         146|\n",
      "|   198.20.69.98|16/Feb/2023:07:26:36|   GET|/.well-known/secu...|HTTP/1.1|   404|         146|\n",
      "|   198.20.69.98|16/Feb/2023:07:26:40|   GET|/assets/img/favic...|HTTP/1.1|   200|         491|\n",
      "|   198.20.69.98|16/Feb/2023:07:26:45|    -\"|                  \"-|        |   400|         150|\n",
      "| 152.89.196.211|16/Feb/2023:07:39:40|   GET|/?XDEBUG_SESSION_...|HTTP/1.1|   200|        5952|\n",
      "+---------------+--------------------+------+--------------------+--------+------+------------+\n",
      "only showing top 20 rows\n",
      "\n"
     ]
    }
   ],
   "source": [
    "logs_df.show(20)"
   ]
  },
  {
   "cell_type": "code",
   "execution_count": 43,
   "id": "2d3620d1-7b32-4b91-a725-cd40fa80ba8b",
   "metadata": {
    "tags": []
   },
   "outputs": [
    {
     "data": {
      "text/plain": [
       "DataFrame[host: string, timestamp: string, method: string, endpoint: string, protocol: string, status: int, content_size: int]"
      ]
     },
     "execution_count": 43,
     "metadata": {},
     "output_type": "execute_result"
    }
   ],
   "source": [
    "logs_df"
   ]
  },
  {
   "cell_type": "code",
   "execution_count": 44,
   "id": "4ed0b450-a1de-4e68-a19b-15bdce257855",
   "metadata": {
    "tags": []
   },
   "outputs": [
    {
     "data": {
      "text/plain": [
       "5736"
      ]
     },
     "execution_count": 44,
     "metadata": {},
     "output_type": "execute_result"
    }
   ],
   "source": [
    "logs_df.count()"
   ]
  },
  {
   "cell_type": "markdown",
   "id": "d78555af-3705-4fa2-b4b7-68cdddf10380",
   "metadata": {},
   "source": [
    "# Handling Temporal Fields (Timestamp)"
   ]
  },
  {
   "cell_type": "markdown",
   "id": "81d510cf-8781-46c1-8eb5-8e88c691b4d6",
   "metadata": {},
   "source": [
    "we have to parse the timestamp field into an actual timestamp. The Common Log Format time is somewhat non-standard. A User-Defined Function (UDF) is the most straightforward way to parse it."
   ]
  },
  {
   "cell_type": "code",
   "execution_count": 45,
   "id": "6603ae09-7a92-4299-8bfb-d868ed942e48",
   "metadata": {
    "tags": []
   },
   "outputs": [],
   "source": [
    "from pyspark.sql.functions import udf\n",
    "\n",
    "month_map = {\n",
    "  'Jan': 1, 'Feb': 2, 'Mar':3, 'Apr':4, 'May':5, 'Jun':6, 'Jul':7,\n",
    "  'Aug':8,  'Sep': 9, 'Oct':10, 'Nov': 11, 'Dec': 12\n",
    "}\n",
    "\n",
    "def parse_clf_time(text):\n",
    "    \"\"\" Convert Common Log time format into a Python datetime object\n",
    "    Args:\n",
    "        text (str): date and time in Apache time format [dd/mmm/yyyy:hh:mm:ss (+/-)zzzz]\n",
    "    Returns:\n",
    "        a string suitable for passing to CAST('timestamp')\n",
    "    \"\"\"\n",
    "    # NOTE: We're ignoring the time zones here, might need to be handled depending on the problem you are solving\n",
    "    return \"{0:04d}-{1:02d}-{2:02d} {3:02d}:{4:02d}:{5:02d}\".format(\n",
    "      int(text[7:11]),\n",
    "      month_map[text[3:6]],\n",
    "      int(text[0:2]),\n",
    "      int(text[12:14]),\n",
    "      int(text[15:17]),\n",
    "      int(text[18:20])\n",
    "    )"
   ]
  },
  {
   "cell_type": "code",
   "execution_count": 46,
   "id": "3b771d84-c5ed-4cc4-bdf2-7ba2e8bf13f4",
   "metadata": {
    "tags": []
   },
   "outputs": [],
   "source": [
    "udf_parse_time = udf(parse_clf_time)\n",
    "logs_df = (logs_df.select('*', udf_parse_time(logs_df['timestamp'])\n",
    "                                  .cast('timestamp')\n",
    "                                  .alias('time'))\n",
    "                  .drop('timestamp'))"
   ]
  },
  {
   "cell_type": "code",
   "execution_count": 47,
   "id": "110ae51d-2728-40c7-a7a5-931aaa5c0338",
   "metadata": {
    "tags": []
   },
   "outputs": [
    {
     "name": "stderr",
     "output_type": "stream",
     "text": [
      "[Stage 41:>                                                         (0 + 1) / 1]\r"
     ]
    },
    {
     "name": "stdout",
     "output_type": "stream",
     "text": [
      "+---------------+------+--------------------+--------+------+------------+-------------------+\n",
      "|           host|method|            endpoint|protocol|status|content_size|               time|\n",
      "+---------------+------+--------------------+--------+------+------------+-------------------+\n",
      "| 143.244.50.172|   GET|/config/getuser?i...|HTTP/1.1|   400|         248|2023-02-16 03:28:45|\n",
      "| 164.90.235.116|   GET|                   /|HTTP/1.1|   200|        5952|2023-02-16 04:11:34|\n",
      "|  66.249.69.126|   GET|         /robots.txt|HTTP/1.1|   404|         146|2023-02-16 04:39:52|\n",
      "|  66.249.69.126|   GET|/assets/img/favic...|HTTP/1.1|   200|         491|2023-02-16 04:39:52|\n",
      "|185.221.219.172|   GET|        /.git/config|HTTP/1.1|   404|         548|2023-02-16 05:06:47|\n",
      "|  66.249.69.101|   GET|/apim/devportal/s...|HTTP/1.1|   304|           0|2023-02-16 05:24:52|\n",
      "|  52.167.144.90|   GET|                   /|HTTP/1.1|   200|        5952|2023-02-16 06:26:16|\n",
      "| 152.89.196.211|   GET|/vendor/phpunit/p...|HTTP/1.1|   404|         548|2023-02-16 07:00:15|\n",
      "| 114.119.133.53|   GET|         /robots.txt|HTTP/1.1|   404|         146|2023-02-16 07:01:52|\n",
      "|   198.20.69.98|   GET|                   /|HTTP/1.1|   200|        5952|2023-02-16 07:26:00|\n",
      "+---------------+------+--------------------+--------+------+------------+-------------------+\n",
      "only showing top 10 rows\n",
      "\n"
     ]
    },
    {
     "name": "stderr",
     "output_type": "stream",
     "text": [
      "                                                                                \r"
     ]
    }
   ],
   "source": [
    "logs_df.show(10,truncate=True)"
   ]
  },
  {
   "cell_type": "code",
   "execution_count": 48,
   "id": "0adc37cf-0d60-4560-ae04-81873004c9c0",
   "metadata": {
    "tags": []
   },
   "outputs": [
    {
     "name": "stderr",
     "output_type": "stream",
     "text": [
      "                                                                                \r"
     ]
    }
   ],
   "source": [
    "logs_df.toPandas().to_csv('log_niginx.csv')"
   ]
  },
  {
   "cell_type": "markdown",
   "id": "8c940bd2-8f5f-4f4f-a44a-377bf86a49c4",
   "metadata": {
    "tags": []
   },
   "source": [
    "# HTTP code analysis"
   ]
  },
  {
   "cell_type": "code",
   "execution_count": 100,
   "id": "63ff3d1b-5d4e-4d79-b712-e2f709d0bd03",
   "metadata": {
    "tags": []
   },
   "outputs": [
    {
     "name": "stdout",
     "output_type": "stream",
     "text": [
      "23/03/01 12:35:38 WARN CacheManager: Asked to cache already cached data.\n",
      "Total distinct HTTP Status Codes: 10\n"
     ]
    }
   ],
   "source": [
    "\n",
    "status_freq_df = (logs_df\n",
    "                     .groupBy('status')\n",
    "                     .count()\n",
    "                     .sort('status')\n",
    "                     .cache())\n",
    "print('Total distinct HTTP Status Codes:', status_freq_df.count())  "
   ]
  },
  {
   "cell_type": "code",
   "execution_count": 101,
   "id": "84c85582-5545-4a1e-909d-dbf76ad55768",
   "metadata": {
    "tags": []
   },
   "outputs": [
    {
     "data": {
      "text/html": [
       "<div>\n",
       "<style scoped>\n",
       "    .dataframe tbody tr th:only-of-type {\n",
       "        vertical-align: middle;\n",
       "    }\n",
       "\n",
       "    .dataframe tbody tr th {\n",
       "        vertical-align: top;\n",
       "    }\n",
       "\n",
       "    .dataframe thead th {\n",
       "        text-align: right;\n",
       "    }\n",
       "</style>\n",
       "<table border=\"1\" class=\"dataframe\">\n",
       "  <thead>\n",
       "    <tr style=\"text-align: right;\">\n",
       "      <th></th>\n",
       "      <th>status</th>\n",
       "      <th>count</th>\n",
       "    </tr>\n",
       "  </thead>\n",
       "  <tbody>\n",
       "    <tr>\n",
       "      <th>3</th>\n",
       "      <td>301</td>\n",
       "      <td>1948</td>\n",
       "    </tr>\n",
       "    <tr>\n",
       "      <th>6</th>\n",
       "      <td>400</td>\n",
       "      <td>1658</td>\n",
       "    </tr>\n",
       "    <tr>\n",
       "      <th>0</th>\n",
       "      <td>200</td>\n",
       "      <td>1605</td>\n",
       "    </tr>\n",
       "    <tr>\n",
       "      <th>7</th>\n",
       "      <td>404</td>\n",
       "      <td>486</td>\n",
       "    </tr>\n",
       "    <tr>\n",
       "      <th>4</th>\n",
       "      <td>302</td>\n",
       "      <td>12</td>\n",
       "    </tr>\n",
       "    <tr>\n",
       "      <th>8</th>\n",
       "      <td>405</td>\n",
       "      <td>11</td>\n",
       "    </tr>\n",
       "    <tr>\n",
       "      <th>2</th>\n",
       "      <td>206</td>\n",
       "      <td>10</td>\n",
       "    </tr>\n",
       "    <tr>\n",
       "      <th>1</th>\n",
       "      <td>204</td>\n",
       "      <td>4</td>\n",
       "    </tr>\n",
       "    <tr>\n",
       "      <th>5</th>\n",
       "      <td>304</td>\n",
       "      <td>1</td>\n",
       "    </tr>\n",
       "    <tr>\n",
       "      <th>9</th>\n",
       "      <td>500</td>\n",
       "      <td>1</td>\n",
       "    </tr>\n",
       "  </tbody>\n",
       "</table>\n",
       "</div>"
      ],
      "text/plain": [
       "   status  count\n",
       "3     301   1948\n",
       "6     400   1658\n",
       "0     200   1605\n",
       "7     404    486\n",
       "4     302     12\n",
       "8     405     11\n",
       "2     206     10\n",
       "1     204      4\n",
       "5     304      1\n",
       "9     500      1"
      ]
     },
     "execution_count": 101,
     "metadata": {},
     "output_type": "execute_result"
    }
   ],
   "source": [
    "status_freq_pd_df = (status_freq_df\n",
    "                         .toPandas()\n",
    "                         .sort_values(by=['count'],\n",
    "                                      ascending=False))\n",
    "status_freq_pd_df"
   ]
  },
  {
   "cell_type": "code",
   "execution_count": 102,
   "id": "66572a4f-e59e-462f-9190-bd16c7094323",
   "metadata": {
    "tags": []
   },
   "outputs": [
    {
     "data": {
      "text/plain": [
       "<seaborn.axisgrid.FacetGrid at 0x7f95dffe0100>"
      ]
     },
     "execution_count": 102,
     "metadata": {},
     "output_type": "execute_result"
    },
    {
     "data": {
      "image/png": "[encoded data removed]",
      "text/plain": [
       "<Figure size 500x500 with 1 Axes>"
      ]
     },
     "metadata": {},
     "output_type": "display_data"
    }
   ],
   "source": [
    "import matplotlib.pyplot as plt\n",
    "import seaborn as sns\n",
    "import numpy as np\n",
    "\n",
    "sns.catplot(x='status', y='count', data=status_freq_pd_df, \n",
    "            kind='bar', order=status_freq_pd_df['status'])"
   ]
  },
  {
   "cell_type": "markdown",
   "id": "8b0b23f9-9dd6-4a55-a9b3-311a789544bc",
   "metadata": {
    "tags": []
   },
   "source": [
    "## 300 Moved Permanently is used for permanent redirecting, meaning that links or records returning this response should be updated.\n",
    "## 400 Bad Request response status code indicates that the server cannot or will not process the request due to something that is perceived to be a client error "
   ]
  },
  {
   "cell_type": "markdown",
   "id": "cf75524d-fb1b-43e2-ba76-b15529de2a05",
   "metadata": {},
   "source": [
    "# handling the skewness"
   ]
  },
  {
   "cell_type": "code",
   "execution_count": 106,
   "id": "1516b8fb-d9e0-4313-a467-a08806831c4a",
   "metadata": {
    "tags": []
   },
   "outputs": [
    {
     "name": "stdout",
     "output_type": "stream",
     "text": [
      "+------+-----+------------------+\n",
      "|status|count|        log(count)|\n",
      "+------+-----+------------------+\n",
      "|   200| 1605| 7.380879035564116|\n",
      "|   204|    4|1.3862943611198906|\n",
      "|   206|   10| 2.302585092994046|\n",
      "|   301| 1948|7.5745584842024805|\n",
      "|   302|   12|2.4849066497880004|\n",
      "|   304|    1|               0.0|\n",
      "|   400| 1658|7.4133673356952405|\n",
      "|   404|  486| 6.186208623900494|\n",
      "|   405|   11|2.3978952727983707|\n",
      "|   500|    1|               0.0|\n",
      "+------+-----+------------------+\n",
      "\n"
     ]
    }
   ],
   "source": [
    "from pyspark.sql import functions as F\n",
    "log_freq_df = status_freq_df.withColumn('log(count)', \n",
    "                                        F.log(status_freq_df['count']))\n",
    "log_freq_df.show()"
   ]
  },
  {
   "cell_type": "code",
   "execution_count": 107,
   "id": "45de388b-697e-43e6-935e-d7df5a881294",
   "metadata": {
    "tags": []
   },
   "outputs": [
    {
     "data": {
      "text/plain": [
       "<seaborn.axisgrid.FacetGrid at 0x7f95dfced1c0>"
      ]
     },
     "execution_count": 107,
     "metadata": {},
     "output_type": "execute_result"
    },
    {
     "data": {
      "image/png": "[encoded data removed]",
      "text/plain": [
       "<Figure size 500x500 with 1 Axes>"
      ]
     },
     "metadata": {},
     "output_type": "display_data"
    }
   ],
   "source": [
    "log_freq_pd_df = (log_freq_df\n",
    "                    .toPandas()\n",
    "                    .sort_values(by=['log(count)'],\n",
    "                                 ascending=False))\n",
    "sns.catplot(x='status', y='log(count)', data=log_freq_pd_df, \n",
    "            kind='bar', order=status_freq_pd_df['status'])"
   ]
  },
  {
   "cell_type": "markdown",
   "id": "c7f1283a-c860-43c8-b36f-879da710b702",
   "metadata": {},
   "source": [
    "# Analyzing 20 Frequent Hosts"
   ]
  },
  {
   "cell_type": "code",
   "execution_count": 113,
   "id": "7e21819c-7388-40ee-bdae-a58d44dd53f2",
   "metadata": {
    "tags": []
   },
   "outputs": [
    {
     "name": "stdout",
     "output_type": "stream",
     "text": [
      "+--------------+-----+\n",
      "|host          |count|\n",
      "+--------------+-----+\n",
      "|95.57.152.188 |549  |\n",
      "|122.50.208.20 |282  |\n",
      "|183.136.225.32|198  |\n",
      "|193.42.33.24  |197  |\n",
      "|194.87.151.209|196  |\n",
      "|212.87.204.248|132  |\n",
      "|10.180.6.83   |129  |\n",
      "|146.59.227.0  |127  |\n",
      "|45.88.67.120  |102  |\n",
      "|109.237.98.226|101  |\n",
      "|79.110.62.234 |84   |\n",
      "|152.89.196.211|84   |\n",
      "|193.32.162.159|80   |\n",
      "|157.50.69.17  |78   |\n",
      "|20.68.180.129 |74   |\n",
      "|141.255.166.82|74   |\n",
      "|49.36.17.16   |74   |\n",
      "|109.237.97.180|73   |\n",
      "|143.244.50.172|62   |\n",
      "|94.102.61.10  |50   |\n",
      "+--------------+-----+\n",
      "\n"
     ]
    }
   ],
   "source": [
    "host_sum_df =(logs_df\n",
    "               .groupBy('host')\n",
    "               .count()\n",
    "               .sort('count', ascending=False).limit(20))\n",
    "\n",
    "host_sum_df.show(truncate=False)"
   ]
  },
  {
   "cell_type": "markdown",
   "id": "63a0e0c9-8e7c-4223-a9b5-586480b1b843",
   "metadata": {
    "tags": []
   },
   "source": [
    "# Top 20 Frequent EndPoints"
   ]
  },
  {
   "cell_type": "code",
   "execution_count": 116,
   "id": "2e8d89d5-3393-4dc8-b268-586ccbc19d3d",
   "metadata": {
    "tags": []
   },
   "outputs": [
    {
     "data": {
      "text/html": [
       "<div>\n",
       "<style scoped>\n",
       "    .dataframe tbody tr th:only-of-type {\n",
       "        vertical-align: middle;\n",
       "    }\n",
       "\n",
       "    .dataframe tbody tr th {\n",
       "        vertical-align: top;\n",
       "    }\n",
       "\n",
       "    .dataframe thead th {\n",
       "        text-align: right;\n",
       "    }\n",
       "</style>\n",
       "<table border=\"1\" class=\"dataframe\">\n",
       "  <thead>\n",
       "    <tr style=\"text-align: right;\">\n",
       "      <th></th>\n",
       "      <th>endpoint</th>\n",
       "      <th>count</th>\n",
       "    </tr>\n",
       "  </thead>\n",
       "  <tbody>\n",
       "    <tr>\n",
       "      <th>0</th>\n",
       "      <td>/</td>\n",
       "      <td>947</td>\n",
       "    </tr>\n",
       "    <tr>\n",
       "      <th>1</th>\n",
       "      <td>\"-\"</td>\n",
       "      <td>716</td>\n",
       "    </tr>\n",
       "    <tr>\n",
       "      <th>2</th>\n",
       "      <td>/boaform/admin/formLogin</td>\n",
       "      <td>574</td>\n",
       "    </tr>\n",
       "    <tr>\n",
       "      <th>3</th>\n",
       "      <td>www.msftncsi.com:443</td>\n",
       "      <td>545</td>\n",
       "    </tr>\n",
       "    <tr>\n",
       "      <th>4</th>\n",
       "      <td>/assets/img/favicon.png</td>\n",
       "      <td>106</td>\n",
       "    </tr>\n",
       "    <tr>\n",
       "      <th>5</th>\n",
       "      <td>/robots.txt</td>\n",
       "      <td>99</td>\n",
       "    </tr>\n",
       "    <tr>\n",
       "      <th>6</th>\n",
       "      <td>\"-</td>\n",
       "      <td>62</td>\n",
       "    </tr>\n",
       "    <tr>\n",
       "      <th>7</th>\n",
       "      <td>/.env</td>\n",
       "      <td>61</td>\n",
       "    </tr>\n",
       "    <tr>\n",
       "      <th>8</th>\n",
       "      <td>/assets/img/apple-touch-icon.png</td>\n",
       "      <td>55</td>\n",
       "    </tr>\n",
       "    <tr>\n",
       "      <th>9</th>\n",
       "      <td>/config/getuser?index=0</td>\n",
       "      <td>54</td>\n",
       "    </tr>\n",
       "    <tr>\n",
       "      <th>10</th>\n",
       "      <td>/favicon.ico</td>\n",
       "      <td>52</td>\n",
       "    </tr>\n",
       "    <tr>\n",
       "      <th>11</th>\n",
       "      <td>/assets/vendor/jquery/jquery.min.js</td>\n",
       "      <td>41</td>\n",
       "    </tr>\n",
       "    <tr>\n",
       "      <th>12</th>\n",
       "      <td>/assets/vendor/owl.carousel/owl.carousel.min.js</td>\n",
       "      <td>41</td>\n",
       "    </tr>\n",
       "    <tr>\n",
       "      <th>13</th>\n",
       "      <td>/js/jquery.js</td>\n",
       "      <td>41</td>\n",
       "    </tr>\n",
       "    <tr>\n",
       "      <th>14</th>\n",
       "      <td>/assets/vendor/jquery.easing/jquery.easing.min.js</td>\n",
       "      <td>41</td>\n",
       "    </tr>\n",
       "    <tr>\n",
       "      <th>15</th>\n",
       "      <td>/js/multipage.js</td>\n",
       "      <td>40</td>\n",
       "    </tr>\n",
       "    <tr>\n",
       "      <th>16</th>\n",
       "      <td>*</td>\n",
       "      <td>40</td>\n",
       "    </tr>\n",
       "    <tr>\n",
       "      <th>17</th>\n",
       "      <td>/assets/vendor/isotope-layout/isotope.pkgd.min.js</td>\n",
       "      <td>40</td>\n",
       "    </tr>\n",
       "    <tr>\n",
       "      <th>18</th>\n",
       "      <td>/assets/vendor/venobox/venobox.min.js</td>\n",
       "      <td>40</td>\n",
       "    </tr>\n",
       "    <tr>\n",
       "      <th>19</th>\n",
       "      <td>/assets/vendor/aos/aos.js</td>\n",
       "      <td>39</td>\n",
       "    </tr>\n",
       "  </tbody>\n",
       "</table>\n",
       "</div>"
      ],
      "text/plain": [
       "                                             endpoint  count\n",
       "0                                                   /    947\n",
       "1                                                 \"-\"    716\n",
       "2                            /boaform/admin/formLogin    574\n",
       "3                                www.msftncsi.com:443    545\n",
       "4                             /assets/img/favicon.png    106\n",
       "5                                         /robots.txt     99\n",
       "6                                                  \"-     62\n",
       "7                                               /.env     61\n",
       "8                    /assets/img/apple-touch-icon.png     55\n",
       "9                             /config/getuser?index=0     54\n",
       "10                                       /favicon.ico     52\n",
       "11                /assets/vendor/jquery/jquery.min.js     41\n",
       "12    /assets/vendor/owl.carousel/owl.carousel.min.js     41\n",
       "13                                      /js/jquery.js     41\n",
       "14  /assets/vendor/jquery.easing/jquery.easing.min.js     41\n",
       "15                                   /js/multipage.js     40\n",
       "16                                                  *     40\n",
       "17  /assets/vendor/isotope-layout/isotope.pkgd.min.js     40\n",
       "18              /assets/vendor/venobox/venobox.min.js     40\n",
       "19                          /assets/vendor/aos/aos.js     39"
      ]
     },
     "execution_count": 116,
     "metadata": {},
     "output_type": "execute_result"
    }
   ],
   "source": [
    "\n",
    "paths_df = (logs_df\n",
    "            .groupBy('endpoint')\n",
    "            .count()\n",
    "            .sort('count', ascending=False).limit(20))\n",
    "\n",
    "paths_pd_df = paths_df.toPandas()\n",
    "paths_pd_df "
   ]
  },
  {
   "cell_type": "markdown",
   "id": "886359ee-9160-427d-8a9c-0492661d44b3",
   "metadata": {},
   "source": [
    "# Top 20 Error Endpoints(non-200 code)"
   ]
  },
  {
   "cell_type": "code",
   "execution_count": 120,
   "id": "d63eaa01-e44d-43af-9123-a6d7a379c834",
   "metadata": {
    "tags": []
   },
   "outputs": [
    {
     "name": "stdout",
     "output_type": "stream",
     "text": [
      "+------------------------+-----+\n",
      "|endpoint                |count|\n",
      "+------------------------+-----+\n",
      "|\"-\"                     |716  |\n",
      "|/                       |584  |\n",
      "|/boaform/admin/formLogin|574  |\n",
      "|www.msftncsi.com:443    |545  |\n",
      "|/robots.txt             |99   |\n",
      "|\"-                      |62   |\n",
      "|/.env                   |61   |\n",
      "|/config/getuser?index=0 |54   |\n",
      "|/favicon.ico            |52   |\n",
      "|*                       |40   |\n",
      "|mstshash=Domain         |28   |\n",
      "|mstshash=Administr      |25   |\n",
      "|/actuator/gateway/routes|24   |\n",
      "|/.aws/credentials       |18   |\n",
      "|http://ip-api.com/json/ |18   |\n",
      "|/assets/img/favicon.png |17   |\n",
      "|/laravel/.env           |17   |\n",
      "|/phpinfo                |16   |\n",
      "|ip-api.com:443          |16   |\n",
      "|/web/.env               |16   |\n",
      "+------------------------+-----+\n",
      "\n"
     ]
    }
   ],
   "source": [
    "not200_df = (logs_df\n",
    "               .filter(logs_df['status'] != 200))\n",
    "\n",
    "error_endpoints_freq_df = (not200_df\n",
    "                               .groupBy('endpoint')\n",
    "                               .count()\n",
    "                               .sort('count', ascending=False)\n",
    "                               .limit(20)\n",
    "                          )\n",
    "                          \n",
    "error_endpoints_freq_df.show(truncate=False)  "
   ]
  },
  {
   "cell_type": "markdown",
   "id": "5212f7ce-79fe-4e7e-8c1b-95dd7a761a3a",
   "metadata": {
    "tags": []
   },
   "source": [
    "# Unique Hosts"
   ]
  },
  {
   "cell_type": "code",
   "execution_count": 125,
   "id": "79303b89-744f-46bb-96dc-1af9d129581a",
   "metadata": {
    "tags": []
   },
   "outputs": [
    {
     "data": {
      "text/html": [
       "<div>\n",
       "<style scoped>\n",
       "    .dataframe tbody tr th:only-of-type {\n",
       "        vertical-align: middle;\n",
       "    }\n",
       "\n",
       "    .dataframe tbody tr th {\n",
       "        vertical-align: top;\n",
       "    }\n",
       "\n",
       "    .dataframe thead th {\n",
       "        text-align: right;\n",
       "    }\n",
       "</style>\n",
       "<table border=\"1\" class=\"dataframe\">\n",
       "  <thead>\n",
       "    <tr style=\"text-align: right;\">\n",
       "      <th></th>\n",
       "      <th>host</th>\n",
       "      <th>count</th>\n",
       "    </tr>\n",
       "  </thead>\n",
       "  <tbody>\n",
       "    <tr>\n",
       "      <th>0</th>\n",
       "      <td>128.14.134.170</td>\n",
       "      <td>1</td>\n",
       "    </tr>\n",
       "    <tr>\n",
       "      <th>1</th>\n",
       "      <td>104.248.193.100</td>\n",
       "      <td>1</td>\n",
       "    </tr>\n",
       "    <tr>\n",
       "      <th>2</th>\n",
       "      <td>118.123.105.85</td>\n",
       "      <td>1</td>\n",
       "    </tr>\n",
       "    <tr>\n",
       "      <th>3</th>\n",
       "      <td>143.42.102.54</td>\n",
       "      <td>1</td>\n",
       "    </tr>\n",
       "    <tr>\n",
       "      <th>4</th>\n",
       "      <td>45.155.126.211</td>\n",
       "      <td>1</td>\n",
       "    </tr>\n",
       "    <tr>\n",
       "      <th>5</th>\n",
       "      <td>66.102.6.247</td>\n",
       "      <td>1</td>\n",
       "    </tr>\n",
       "    <tr>\n",
       "      <th>6</th>\n",
       "      <td>95.57.152.188</td>\n",
       "      <td>1</td>\n",
       "    </tr>\n",
       "    <tr>\n",
       "      <th>7</th>\n",
       "      <td>66.249.66.4</td>\n",
       "      <td>1</td>\n",
       "    </tr>\n",
       "    <tr>\n",
       "      <th>8</th>\n",
       "      <td>170.64.146.220</td>\n",
       "      <td>1</td>\n",
       "    </tr>\n",
       "    <tr>\n",
       "      <th>9</th>\n",
       "      <td>10.180.6.83</td>\n",
       "      <td>1</td>\n",
       "    </tr>\n",
       "    <tr>\n",
       "      <th>10</th>\n",
       "      <td>207.46.13.15</td>\n",
       "      <td>1</td>\n",
       "    </tr>\n",
       "    <tr>\n",
       "      <th>11</th>\n",
       "      <td>107.170.226.22</td>\n",
       "      <td>1</td>\n",
       "    </tr>\n",
       "    <tr>\n",
       "      <th>12</th>\n",
       "      <td>210.113.70.60</td>\n",
       "      <td>1</td>\n",
       "    </tr>\n",
       "    <tr>\n",
       "      <th>13</th>\n",
       "      <td>162.142.125.221</td>\n",
       "      <td>1</td>\n",
       "    </tr>\n",
       "    <tr>\n",
       "      <th>14</th>\n",
       "      <td>155.4.89.121</td>\n",
       "      <td>1</td>\n",
       "    </tr>\n",
       "    <tr>\n",
       "      <th>15</th>\n",
       "      <td>87.236.176.62</td>\n",
       "      <td>1</td>\n",
       "    </tr>\n",
       "    <tr>\n",
       "      <th>16</th>\n",
       "      <td>193.42.33.24</td>\n",
       "      <td>1</td>\n",
       "    </tr>\n",
       "    <tr>\n",
       "      <th>17</th>\n",
       "      <td>125.41.1.239</td>\n",
       "      <td>1</td>\n",
       "    </tr>\n",
       "    <tr>\n",
       "      <th>18</th>\n",
       "      <td>198.199.95.41</td>\n",
       "      <td>1</td>\n",
       "    </tr>\n",
       "    <tr>\n",
       "      <th>19</th>\n",
       "      <td>117.215.75.107</td>\n",
       "      <td>1</td>\n",
       "    </tr>\n",
       "  </tbody>\n",
       "</table>\n",
       "</div>"
      ],
      "text/plain": [
       "               host  count\n",
       "0    128.14.134.170      1\n",
       "1   104.248.193.100      1\n",
       "2    118.123.105.85      1\n",
       "3     143.42.102.54      1\n",
       "4    45.155.126.211      1\n",
       "5      66.102.6.247      1\n",
       "6     95.57.152.188      1\n",
       "7       66.249.66.4      1\n",
       "8    170.64.146.220      1\n",
       "9       10.180.6.83      1\n",
       "10     207.46.13.15      1\n",
       "11   107.170.226.22      1\n",
       "12    210.113.70.60      1\n",
       "13  162.142.125.221      1\n",
       "14     155.4.89.121      1\n",
       "15    87.236.176.62      1\n",
       "16     193.42.33.24      1\n",
       "17     125.41.1.239      1\n",
       "18    198.199.95.41      1\n",
       "19   117.215.75.107      1"
      ]
     },
     "execution_count": 125,
     "metadata": {},
     "output_type": "execute_result"
    }
   ],
   "source": [
    "unique_host_count = (logs_df\n",
    "            .select('host')\n",
    "            .distinct()\n",
    "            .groupBy('host')\n",
    "            .count()\n",
    "            .sort('count', ascending=False).limit(20))\n",
    "\n",
    "unique_host_count_df = unique_host_count.toPandas()\n",
    "unique_host_count_df            "
   ]
  },
  {
   "cell_type": "markdown",
   "id": "6d2afbd1-4666-4760-bd4c-3e0590925450",
   "metadata": {},
   "source": [
    "# Total No. of unique Host"
   ]
  },
  {
   "cell_type": "code",
   "execution_count": 126,
   "id": "df6d93a5-6c61-44df-afa4-194f6b4cd430",
   "metadata": {
    "tags": []
   },
   "outputs": [
    {
     "data": {
      "text/plain": [
       "765"
      ]
     },
     "execution_count": 126,
     "metadata": {},
     "output_type": "execute_result"
    }
   ],
   "source": [
    "unique_host_no = (logs_df\n",
    "                     .select('host')\n",
    "                     .distinct()\n",
    "                     .count())\n",
    "unique_host_no"
   ]
  },
  {
   "cell_type": "markdown",
   "id": "d2043670-5d09-458e-b7b2-587a49dc39ec",
   "metadata": {},
   "source": [
    "# Number of Unique Daily Hosts"
   ]
  },
  {
   "cell_type": "markdown",
   "id": "a7875d8f-24b3-4de9-af05-373dd16928a3",
   "metadata": {},
   "source": [
    "Since the log only covers a single month, we can ignore the month. \n",
    "\n",
    "we can use the dayofmonthfunction in the pyspark.sql.functions module (which we have already imported as F."
   ]
  },
  {
   "cell_type": "code",
   "execution_count": 127,
   "id": "617a5186-37bb-450b-91e3-b736fd91594b",
   "metadata": {
    "tags": []
   },
   "outputs": [
    {
     "name": "stdout",
     "output_type": "stream",
     "text": [
      "+---------------+---+\n",
      "|host           |day|\n",
      "+---------------+---+\n",
      "|143.244.50.172 |16 |\n",
      "|164.90.235.116 |16 |\n",
      "|66.249.69.126  |16 |\n",
      "|66.249.69.126  |16 |\n",
      "|185.221.219.172|16 |\n",
      "+---------------+---+\n",
      "only showing top 5 rows\n",
      "\n"
     ]
    }
   ],
   "source": [
    "host_day_df = logs_df.select(logs_df.host, \n",
    "                             F.dayofmonth('time').alias('day'))\n",
    "host_day_df.show(5, truncate=False)"
   ]
  },
  {
   "cell_type": "code",
   "execution_count": 128,
   "id": "bd9003e9-65fa-4cba-87ce-c24064f2409b",
   "metadata": {
    "tags": []
   },
   "outputs": [
    {
     "name": "stderr",
     "output_type": "stream",
     "text": [
      "[Stage 132:==============>                                          (1 + 3) / 4]\r"
     ]
    },
    {
     "name": "stdout",
     "output_type": "stream",
     "text": [
      "+--------------+---+\n",
      "|host          |day|\n",
      "+--------------+---+\n",
      "|66.102.9.214  |16 |\n",
      "|198.235.24.48 |17 |\n",
      "|185.246.220.98|17 |\n",
      "|106.75.175.25 |14 |\n",
      "|170.64.130.58 |21 |\n",
      "+--------------+---+\n",
      "only showing top 5 rows\n",
      "\n"
     ]
    },
    {
     "name": "stderr",
     "output_type": "stream",
     "text": [
      "                                                                                \r"
     ]
    }
   ],
   "source": [
    "host_day_distinct_df = (host_day_df\n",
    "                          .dropDuplicates())\n",
    "host_day_distinct_df.show(5, truncate=False)"
   ]
  },
  {
   "cell_type": "code",
   "execution_count": 131,
   "id": "d690825a-dc59-44c0-bb3d-78ca695623e2",
   "metadata": {
    "tags": []
   },
   "outputs": [
    {
     "data": {
      "text/html": [
       "<div>\n",
       "<style scoped>\n",
       "    .dataframe tbody tr th:only-of-type {\n",
       "        vertical-align: middle;\n",
       "    }\n",
       "\n",
       "    .dataframe tbody tr th {\n",
       "        vertical-align: top;\n",
       "    }\n",
       "\n",
       "    .dataframe thead th {\n",
       "        text-align: right;\n",
       "    }\n",
       "</style>\n",
       "<table border=\"1\" class=\"dataframe\">\n",
       "  <thead>\n",
       "    <tr style=\"text-align: right;\">\n",
       "      <th></th>\n",
       "      <th>day</th>\n",
       "      <th>count</th>\n",
       "    </tr>\n",
       "  </thead>\n",
       "  <tbody>\n",
       "    <tr>\n",
       "      <th>0</th>\n",
       "      <td>12</td>\n",
       "      <td>79</td>\n",
       "    </tr>\n",
       "    <tr>\n",
       "      <th>1</th>\n",
       "      <td>13</td>\n",
       "      <td>89</td>\n",
       "    </tr>\n",
       "    <tr>\n",
       "      <th>2</th>\n",
       "      <td>14</td>\n",
       "      <td>105</td>\n",
       "    </tr>\n",
       "    <tr>\n",
       "      <th>3</th>\n",
       "      <td>15</td>\n",
       "      <td>120</td>\n",
       "    </tr>\n",
       "    <tr>\n",
       "      <th>4</th>\n",
       "      <td>16</td>\n",
       "      <td>97</td>\n",
       "    </tr>\n",
       "    <tr>\n",
       "      <th>5</th>\n",
       "      <td>17</td>\n",
       "      <td>140</td>\n",
       "    </tr>\n",
       "    <tr>\n",
       "      <th>6</th>\n",
       "      <td>18</td>\n",
       "      <td>94</td>\n",
       "    </tr>\n",
       "    <tr>\n",
       "      <th>7</th>\n",
       "      <td>19</td>\n",
       "      <td>95</td>\n",
       "    </tr>\n",
       "    <tr>\n",
       "      <th>8</th>\n",
       "      <td>20</td>\n",
       "      <td>106</td>\n",
       "    </tr>\n",
       "    <tr>\n",
       "      <th>9</th>\n",
       "      <td>21</td>\n",
       "      <td>126</td>\n",
       "    </tr>\n",
       "    <tr>\n",
       "      <th>10</th>\n",
       "      <td>22</td>\n",
       "      <td>27</td>\n",
       "    </tr>\n",
       "  </tbody>\n",
       "</table>\n",
       "</div>"
      ],
      "text/plain": [
       "    day  count\n",
       "0    12     79\n",
       "1    13     89\n",
       "2    14    105\n",
       "3    15    120\n",
       "4    16     97\n",
       "5    17    140\n",
       "6    18     94\n",
       "7    19     95\n",
       "8    20    106\n",
       "9    21    126\n",
       "10   22     27"
      ]
     },
     "execution_count": 131,
     "metadata": {},
     "output_type": "execute_result"
    }
   ],
   "source": [
    "#def_mr = pd.get_option('max_rows')\n",
    "#pd.set_option('max_rows', 10)\n",
    "\n",
    "daily_hosts_df = (host_day_distinct_df\n",
    "                     .groupBy('day')\n",
    "                     .count()\n",
    "                     .sort(\"day\"))\n",
    "\n",
    "daily_hosts_df = daily_hosts_df.toPandas()\n",
    "daily_hosts_df"
   ]
  },
  {
   "cell_type": "code",
   "execution_count": 132,
   "id": "3a0e0c70-400a-4fca-9a23-bd194642e464",
   "metadata": {
    "tags": []
   },
   "outputs": [
    {
     "data": {
      "image/png": "[encoded data removed]",
      "text/plain": [
       "<Figure size 750x500 with 1 Axes>"
      ]
     },
     "metadata": {},
     "output_type": "display_data"
    }
   ],
   "source": [
    "c = sns.catplot(x='day', y='count', \n",
    "                data=daily_hosts_df, \n",
    "                kind='point', height=5, \n",
    "                aspect=1.5)"
   ]
  },
  {
   "cell_type": "markdown",
   "id": "9dec73b9-f2b0-4973-ae79-f70499c9386c",
   "metadata": {},
   "source": [
    "# Average Number of Daily Requests per Host"
   ]
  },
  {
   "cell_type": "code",
   "execution_count": 134,
   "id": "1f5e4a1c-eb64-4cf2-ab84-517f3b1e672f",
   "metadata": {
    "tags": []
   },
   "outputs": [
    {
     "name": "stdout",
     "output_type": "stream",
     "text": [
      "+---+-----------+\n",
      "|day|total_hosts|\n",
      "+---+-----------+\n",
      "| 12|         79|\n",
      "| 22|         27|\n",
      "| 13|         89|\n",
      "| 16|         97|\n",
      "| 20|        106|\n",
      "| 19|         95|\n",
      "| 15|        120|\n",
      "| 17|        140|\n",
      "| 21|        126|\n",
      "| 14|        105|\n",
      "| 18|         94|\n",
      "+---+-----------+\n",
      "\n"
     ]
    }
   ],
   "source": [
    "daily_hosts_df = (host_day_distinct_df\n",
    "                     .groupBy('day')\n",
    "                     .count()\n",
    "                     .select(col(\"day\"), \n",
    "                                      col(\"count\").alias(\"total_hosts\")))\n",
    "\n",
    "daily_hosts_df.show()"
   ]
  },
  {
   "cell_type": "code",
   "execution_count": 135,
   "id": "29260281-b64d-4186-8f26-86644f5c0e07",
   "metadata": {
    "tags": []
   },
   "outputs": [
    {
     "name": "stdout",
     "output_type": "stream",
     "text": [
      "+---+----------+\n",
      "|day|total_reqs|\n",
      "+---+----------+\n",
      "| 12|       861|\n",
      "| 22|       108|\n",
      "| 13|       350|\n",
      "| 16|       726|\n",
      "| 15|       563|\n",
      "| 17|       457|\n",
      "| 21|       659|\n",
      "| 14|       623|\n",
      "| 18|       282|\n",
      "| 20|       579|\n",
      "| 19|       528|\n",
      "+---+----------+\n",
      "\n"
     ]
    }
   ],
   "source": [
    "total_daily_reqests_df = (logs_df\n",
    "                              .select(F.dayofmonth(\"time\")\n",
    "                                          .alias(\"day\"))\n",
    "                              .groupBy(\"day\")\n",
    "                              .count()\n",
    "                              .select(col(\"day\"), \n",
    "                                      col(\"count\").alias(\"total_reqs\")))\n",
    "total_daily_reqests_df.show()"
   ]
  },
  {
   "cell_type": "code",
   "execution_count": 136,
   "id": "a4089165-ffe7-483f-8f8f-5416af21b0fe",
   "metadata": {
    "tags": []
   },
   "outputs": [
    {
     "data": {
      "text/html": [
       "<div>\n",
       "<style scoped>\n",
       "    .dataframe tbody tr th:only-of-type {\n",
       "        vertical-align: middle;\n",
       "    }\n",
       "\n",
       "    .dataframe tbody tr th {\n",
       "        vertical-align: top;\n",
       "    }\n",
       "\n",
       "    .dataframe thead th {\n",
       "        text-align: right;\n",
       "    }\n",
       "</style>\n",
       "<table border=\"1\" class=\"dataframe\">\n",
       "  <thead>\n",
       "    <tr style=\"text-align: right;\">\n",
       "      <th></th>\n",
       "      <th>day</th>\n",
       "      <th>total_reqs</th>\n",
       "      <th>total_hosts</th>\n",
       "      <th>avg_reqs</th>\n",
       "    </tr>\n",
       "  </thead>\n",
       "  <tbody>\n",
       "    <tr>\n",
       "      <th>0</th>\n",
       "      <td>12</td>\n",
       "      <td>861</td>\n",
       "      <td>79</td>\n",
       "      <td>10.898734</td>\n",
       "    </tr>\n",
       "    <tr>\n",
       "      <th>1</th>\n",
       "      <td>13</td>\n",
       "      <td>350</td>\n",
       "      <td>89</td>\n",
       "      <td>3.932584</td>\n",
       "    </tr>\n",
       "    <tr>\n",
       "      <th>2</th>\n",
       "      <td>14</td>\n",
       "      <td>623</td>\n",
       "      <td>105</td>\n",
       "      <td>5.933333</td>\n",
       "    </tr>\n",
       "    <tr>\n",
       "      <th>3</th>\n",
       "      <td>15</td>\n",
       "      <td>563</td>\n",
       "      <td>120</td>\n",
       "      <td>4.691667</td>\n",
       "    </tr>\n",
       "    <tr>\n",
       "      <th>4</th>\n",
       "      <td>16</td>\n",
       "      <td>726</td>\n",
       "      <td>97</td>\n",
       "      <td>7.484536</td>\n",
       "    </tr>\n",
       "    <tr>\n",
       "      <th>5</th>\n",
       "      <td>17</td>\n",
       "      <td>457</td>\n",
       "      <td>140</td>\n",
       "      <td>3.264286</td>\n",
       "    </tr>\n",
       "    <tr>\n",
       "      <th>6</th>\n",
       "      <td>18</td>\n",
       "      <td>282</td>\n",
       "      <td>94</td>\n",
       "      <td>3.000000</td>\n",
       "    </tr>\n",
       "    <tr>\n",
       "      <th>7</th>\n",
       "      <td>19</td>\n",
       "      <td>528</td>\n",
       "      <td>95</td>\n",
       "      <td>5.557895</td>\n",
       "    </tr>\n",
       "    <tr>\n",
       "      <th>8</th>\n",
       "      <td>20</td>\n",
       "      <td>579</td>\n",
       "      <td>106</td>\n",
       "      <td>5.462264</td>\n",
       "    </tr>\n",
       "    <tr>\n",
       "      <th>9</th>\n",
       "      <td>21</td>\n",
       "      <td>659</td>\n",
       "      <td>126</td>\n",
       "      <td>5.230159</td>\n",
       "    </tr>\n",
       "    <tr>\n",
       "      <th>10</th>\n",
       "      <td>22</td>\n",
       "      <td>108</td>\n",
       "      <td>27</td>\n",
       "      <td>4.000000</td>\n",
       "    </tr>\n",
       "  </tbody>\n",
       "</table>\n",
       "</div>"
      ],
      "text/plain": [
       "    day  total_reqs  total_hosts   avg_reqs\n",
       "0    12         861           79  10.898734\n",
       "1    13         350           89   3.932584\n",
       "2    14         623          105   5.933333\n",
       "3    15         563          120   4.691667\n",
       "4    16         726           97   7.484536\n",
       "5    17         457          140   3.264286\n",
       "6    18         282           94   3.000000\n",
       "7    19         528           95   5.557895\n",
       "8    20         579          106   5.462264\n",
       "9    21         659          126   5.230159\n",
       "10   22         108           27   4.000000"
      ]
     },
     "execution_count": 136,
     "metadata": {},
     "output_type": "execute_result"
    }
   ],
   "source": [
    "avg_daily_reqests_per_host_df = total_daily_reqests_df.join(daily_hosts_df, 'day')\n",
    "avg_daily_reqests_per_host_df = (avg_daily_reqests_per_host_df\n",
    "                                    .withColumn('avg_reqs', col('total_reqs') / col('total_hosts'))\n",
    "                                    .sort(\"day\"))\n",
    "avg_daily_reqests_per_host_df = avg_daily_reqests_per_host_df.toPandas()\n",
    "avg_daily_reqests_per_host_df"
   ]
  },
  {
   "cell_type": "code",
   "execution_count": 140,
   "id": "eb918f01-10f3-417d-b368-60323b6c6ca3",
   "metadata": {
    "tags": []
   },
   "outputs": [
    {
     "data": {
      "image/png": "[encoded data removed]",
      "text/plain": [
       "<Figure size 750x500 with 1 Axes>"
      ]
     },
     "metadata": {},
     "output_type": "display_data"
    }
   ],
   "source": [
    "c = sns.catplot(x='day', y='avg_reqs', \n",
    "                data=avg_daily_reqests_per_host_df, \n",
    "                kind='point', height=5, aspect=1.5)"
   ]
  },
  {
   "cell_type": "markdown",
   "id": "cb4f4afd-1884-42bb-bdec-601d5dcf0d04",
   "metadata": {
    "tags": []
   },
   "source": [
    "# Total 404 Response Codes"
   ]
  },
  {
   "cell_type": "code",
   "execution_count": 147,
   "id": "52ca68ee-075d-4c31-a55a-7a48153a80a2",
   "metadata": {
    "tags": []
   },
   "outputs": [
    {
     "name": "stdout",
     "output_type": "stream",
     "text": [
      "23/03/01 14:49:24 WARN CacheManager: Asked to cache already cached data.\n",
      "Total 404 responses: 486\n"
     ]
    }
   ],
   "source": [
    "not_found_df = logs_df.filter(logs_df[\"status\"] == 404).cache()\n",
    "print(('Total 404 responses: {}').format(not_found_df.count()))"
   ]
  },
  {
   "cell_type": "markdown",
   "id": "7661f64d-3074-49d3-b840-b7ffaac2dd07",
   "metadata": {},
   "source": [
    "# Listing the Top Twenty 404 Response Code Endpoints"
   ]
  },
  {
   "cell_type": "code",
   "execution_count": 151,
   "id": "39a93168-79eb-4836-92d6-29871eaa077b",
   "metadata": {
    "tags": []
   },
   "outputs": [
    {
     "name": "stdout",
     "output_type": "stream",
     "text": [
      "+----------------------------------------------------------------------+-----+\n",
      "|endpoint                                                              |count|\n",
      "+----------------------------------------------------------------------+-----+\n",
      "|/robots.txt                                                           |69   |\n",
      "|/favicon.ico                                                          |46   |\n",
      "|/actuator/gateway/routes                                              |16   |\n",
      "|/.env                                                                 |16   |\n",
      "|/sitemap.xml                                                          |12   |\n",
      "|/owa/auth/logon.aspx?url=https%3a%2f%2f1%2fecp%2f                     |10   |\n",
      "|/.git/config                                                          |9    |\n",
      "|/wp-login.php                                                         |7    |\n",
      "|/vendor/phpunit/phpunit/src/Util/PHP/eval-stdin.php                   |7    |\n",
      "|/.well-known/security.txt                                             |6    |\n",
      "|/actuator/health                                                      |6    |\n",
      "|/autodiscover/autodiscover.json?@zdi/Powershell                       |6    |\n",
      "|/uan.cdacb.in/.env                                                    |6    |\n",
      "|/manager/html                                                         |5    |\n",
      "|/ab2g                                                                 |5    |\n",
      "|/99vt                                                                 |4    |\n",
      "|/cgi-bin/authLogin.cgi                                                |4    |\n",
      "|/remote/fgt_lang?lang=/../../../..//////////dev/cmdb/sslvpn_websession|4    |\n",
      "|/ab2h                                                                 |4    |\n",
      "|/99vu                                                                 |4    |\n",
      "+----------------------------------------------------------------------+-----+\n",
      "\n"
     ]
    }
   ],
   "source": [
    "endpoints_404_count_df = (not_found_df\n",
    "                          .groupBy(\"endpoint\")\n",
    "                          .count()\n",
    "                          .sort(\"count\", ascending=False)\n",
    "                          .limit(20))\n",
    "\n",
    "endpoints_404_count_df.show(truncate=False)"
   ]
  },
  {
   "cell_type": "markdown",
   "id": "72250243-2f9e-43f4-9ef1-6ea0d0b678eb",
   "metadata": {},
   "source": [
    "# Listing the Top Twenty 404 Response Code Hosts"
   ]
  },
  {
   "cell_type": "code",
   "execution_count": 149,
   "id": "a9798cc9-e0cb-4b36-9906-ba59f8483b2c",
   "metadata": {
    "tags": []
   },
   "outputs": [
    {
     "name": "stdout",
     "output_type": "stream",
     "text": [
      "+---------------+-----+\n",
      "|host           |count|\n",
      "+---------------+-----+\n",
      "|20.68.180.129  |50   |\n",
      "|141.255.166.82 |37   |\n",
      "|152.89.196.211 |30   |\n",
      "|51.15.27.89    |16   |\n",
      "|164.92.189.255 |15   |\n",
      "|182.66.82.11   |13   |\n",
      "|104.248.193.100|12   |\n",
      "|54.235.59.67   |12   |\n",
      "|44.200.66.190  |12   |\n",
      "|3.97.47.30     |9    |\n",
      "|163.172.117.134|7    |\n",
      "|52.167.144.57  |6    |\n",
      "|47.243.233.244 |6    |\n",
      "|148.153.45.234 |6    |\n",
      "|185.180.143.141|5    |\n",
      "|183.136.225.32 |5    |\n",
      "|45.148.120.161 |5    |\n",
      "|185.180.143.18 |5    |\n",
      "|106.75.80.230  |5    |\n",
      "|109.237.98.226 |4    |\n",
      "+---------------+-----+\n",
      "\n"
     ]
    }
   ],
   "source": [
    "hosts_404_count_df = (not_found_df\n",
    "                          .groupBy(\"host\")\n",
    "                          .count()\n",
    "                          .sort(\"count\", ascending=False)\n",
    "                          .limit(20))\n",
    "\n",
    "hosts_404_count_df.show(truncate=False)"
   ]
  },
  {
   "cell_type": "markdown",
   "id": "dfce80df-cb21-4126-ab46-ef85765d782a",
   "metadata": {},
   "source": [
    "# Visualizing 404 Errors per Day"
   ]
  },
  {
   "cell_type": "code",
   "execution_count": 152,
   "id": "ec2a4c47-56cd-4de7-acaf-c602d46cb2d5",
   "metadata": {
    "tags": []
   },
   "outputs": [
    {
     "data": {
      "text/html": [
       "<div>\n",
       "<style scoped>\n",
       "    .dataframe tbody tr th:only-of-type {\n",
       "        vertical-align: middle;\n",
       "    }\n",
       "\n",
       "    .dataframe tbody tr th {\n",
       "        vertical-align: top;\n",
       "    }\n",
       "\n",
       "    .dataframe thead th {\n",
       "        text-align: right;\n",
       "    }\n",
       "</style>\n",
       "<table border=\"1\" class=\"dataframe\">\n",
       "  <thead>\n",
       "    <tr style=\"text-align: right;\">\n",
       "      <th></th>\n",
       "      <th>day</th>\n",
       "      <th>count</th>\n",
       "    </tr>\n",
       "  </thead>\n",
       "  <tbody>\n",
       "    <tr>\n",
       "      <th>0</th>\n",
       "      <td>12</td>\n",
       "      <td>16</td>\n",
       "    </tr>\n",
       "    <tr>\n",
       "      <th>1</th>\n",
       "      <td>13</td>\n",
       "      <td>31</td>\n",
       "    </tr>\n",
       "    <tr>\n",
       "      <th>2</th>\n",
       "      <td>14</td>\n",
       "      <td>35</td>\n",
       "    </tr>\n",
       "    <tr>\n",
       "      <th>3</th>\n",
       "      <td>15</td>\n",
       "      <td>55</td>\n",
       "    </tr>\n",
       "    <tr>\n",
       "      <th>4</th>\n",
       "      <td>16</td>\n",
       "      <td>45</td>\n",
       "    </tr>\n",
       "    <tr>\n",
       "      <th>5</th>\n",
       "      <td>17</td>\n",
       "      <td>40</td>\n",
       "    </tr>\n",
       "    <tr>\n",
       "      <th>6</th>\n",
       "      <td>18</td>\n",
       "      <td>34</td>\n",
       "    </tr>\n",
       "    <tr>\n",
       "      <th>7</th>\n",
       "      <td>19</td>\n",
       "      <td>103</td>\n",
       "    </tr>\n",
       "    <tr>\n",
       "      <th>8</th>\n",
       "      <td>20</td>\n",
       "      <td>28</td>\n",
       "    </tr>\n",
       "    <tr>\n",
       "      <th>9</th>\n",
       "      <td>21</td>\n",
       "      <td>81</td>\n",
       "    </tr>\n",
       "    <tr>\n",
       "      <th>10</th>\n",
       "      <td>22</td>\n",
       "      <td>18</td>\n",
       "    </tr>\n",
       "  </tbody>\n",
       "</table>\n",
       "</div>"
      ],
      "text/plain": [
       "    day  count\n",
       "0    12     16\n",
       "1    13     31\n",
       "2    14     35\n",
       "3    15     55\n",
       "4    16     45\n",
       "5    17     40\n",
       "6    18     34\n",
       "7    19    103\n",
       "8    20     28\n",
       "9    21     81\n",
       "10   22     18"
      ]
     },
     "execution_count": 152,
     "metadata": {},
     "output_type": "execute_result"
    }
   ],
   "source": [
    "errors_by_date_sorted_df = (not_found_df\n",
    "                                .groupBy(F.dayofmonth('time').alias('day'))\n",
    "                                .count()\n",
    "                                .sort(\"day\"))\n",
    "\n",
    "errors_by_date_sorted_pd_df = errors_by_date_sorted_df.toPandas()\n",
    "errors_by_date_sorted_pd_df"
   ]
  },
  {
   "cell_type": "code",
   "execution_count": 153,
   "id": "1d9203dd-ad35-4087-8cc8-da14d2b3340f",
   "metadata": {
    "tags": []
   },
   "outputs": [
    {
     "data": {
      "image/png": "[encoded data removed]",
      "text/plain": [
       "<Figure size 750x500 with 1 Axes>"
      ]
     },
     "metadata": {},
     "output_type": "display_data"
    }
   ],
   "source": [
    "c = sns.catplot(x='day', y='count', \n",
    "                data=errors_by_date_sorted_pd_df, \n",
    "                kind='point', height=5, aspect=1.5)"
   ]
  },
  {
   "cell_type": "markdown",
   "id": "2c10cc2a-6a26-4d75-a622-24b3f5b458d8",
   "metadata": {},
   "source": [
    "# Top Three Days for 404 Errors"
   ]
  },
  {
   "cell_type": "code",
   "execution_count": 154,
   "id": "7bc7a372-74e2-438f-ad86-5b3ba57c08c5",
   "metadata": {
    "tags": []
   },
   "outputs": [
    {
     "name": "stdout",
     "output_type": "stream",
     "text": [
      "+---+-----+\n",
      "|day|count|\n",
      "+---+-----+\n",
      "| 19|  103|\n",
      "| 21|   81|\n",
      "| 15|   55|\n",
      "+---+-----+\n",
      "only showing top 3 rows\n",
      "\n"
     ]
    }
   ],
   "source": [
    "(errors_by_date_sorted_df\n",
    "    .sort(\"count\", ascending=False)\n",
    "    .show(3))"
   ]
  },
  {
   "cell_type": "markdown",
   "id": "7e0aa0a0-d81e-4250-87f9-e081b81eb42e",
   "metadata": {},
   "source": [
    "# Visualizing Hourly 404 Errors"
   ]
  },
  {
   "cell_type": "code",
   "execution_count": 156,
   "id": "606fee2d-986e-4711-84ea-fe55f1a1a7eb",
   "metadata": {
    "tags": []
   },
   "outputs": [
    {
     "data": {
      "image/png": "[encoded data removed]",
      "text/plain": [
       "<Figure size 750x500 with 1 Axes>"
      ]
     },
     "metadata": {},
     "output_type": "display_data"
    }
   ],
   "source": [
    "hourly_avg_errors_sorted_df = (not_found_df\n",
    "                                   .groupBy(F.hour('time')\n",
    "                                             .alias('hour'))\n",
    "                                   .count()\n",
    "                                   .sort('hour'))\n",
    "hourly_avg_errors_sorted_pd_df = hourly_avg_errors_sorted_df.toPandas()\n",
    "\n",
    "c = sns.catplot(x='hour', y='count', \n",
    "                data=hourly_avg_errors_sorted_pd_df, \n",
    "                kind='bar', height=5, aspect=1.5)"
   ]
  },
  {
   "cell_type": "code",
   "execution_count": 194,
   "id": "4d8ebbd8-796b-4f57-b583-5c3007d6f63a",
   "metadata": {
    "tags": []
   },
   "outputs": [],
   "source": [
    "df=pd.read_csv('log_niginx.csv')"
   ]
  },
  {
   "cell_type": "code",
   "execution_count": 196,
   "id": "770b2d35-764f-4112-9abb-7e4f55222b5a",
   "metadata": {
    "tags": []
   },
   "outputs": [
    {
     "data": {
      "text/html": [
       "<div>\n",
       "<style scoped>\n",
       "    .dataframe tbody tr th:only-of-type {\n",
       "        vertical-align: middle;\n",
       "    }\n",
       "\n",
       "    .dataframe tbody tr th {\n",
       "        vertical-align: top;\n",
       "    }\n",
       "\n",
       "    .dataframe thead th {\n",
       "        text-align: right;\n",
       "    }\n",
       "</style>\n",
       "<table border=\"1\" class=\"dataframe\">\n",
       "  <thead>\n",
       "    <tr style=\"text-align: right;\">\n",
       "      <th></th>\n",
       "      <th>host</th>\n",
       "      <th>method</th>\n",
       "      <th>endpoint</th>\n",
       "      <th>protocol</th>\n",
       "      <th>status</th>\n",
       "      <th>content_size</th>\n",
       "      <th>time</th>\n",
       "    </tr>\n",
       "  </thead>\n",
       "  <tbody>\n",
       "    <tr>\n",
       "      <th>0</th>\n",
       "      <td>143.244.50.172</td>\n",
       "      <td>GET</td>\n",
       "      <td>/config/getuser?index=0</td>\n",
       "      <td>HTTP/1.1</td>\n",
       "      <td>400</td>\n",
       "      <td>248</td>\n",
       "      <td>2023-02-16 03:28:45</td>\n",
       "    </tr>\n",
       "    <tr>\n",
       "      <th>1</th>\n",
       "      <td>164.90.235.116</td>\n",
       "      <td>GET</td>\n",
       "      <td>/</td>\n",
       "      <td>HTTP/1.1</td>\n",
       "      <td>200</td>\n",
       "      <td>5952</td>\n",
       "      <td>2023-02-16 04:11:34</td>\n",
       "    </tr>\n",
       "    <tr>\n",
       "      <th>2</th>\n",
       "      <td>66.249.69.126</td>\n",
       "      <td>GET</td>\n",
       "      <td>/robots.txt</td>\n",
       "      <td>HTTP/1.1</td>\n",
       "      <td>404</td>\n",
       "      <td>146</td>\n",
       "      <td>2023-02-16 04:39:52</td>\n",
       "    </tr>\n",
       "    <tr>\n",
       "      <th>3</th>\n",
       "      <td>66.249.69.126</td>\n",
       "      <td>GET</td>\n",
       "      <td>/assets/img/favicon.png</td>\n",
       "      <td>HTTP/1.1</td>\n",
       "      <td>200</td>\n",
       "      <td>491</td>\n",
       "      <td>2023-02-16 04:39:52</td>\n",
       "    </tr>\n",
       "    <tr>\n",
       "      <th>4</th>\n",
       "      <td>185.221.219.172</td>\n",
       "      <td>GET</td>\n",
       "      <td>/.git/config</td>\n",
       "      <td>HTTP/1.1</td>\n",
       "      <td>404</td>\n",
       "      <td>548</td>\n",
       "      <td>2023-02-16 05:06:47</td>\n",
       "    </tr>\n",
       "    <tr>\n",
       "      <th>...</th>\n",
       "      <td>...</td>\n",
       "      <td>...</td>\n",
       "      <td>...</td>\n",
       "      <td>...</td>\n",
       "      <td>...</td>\n",
       "      <td>...</td>\n",
       "      <td>...</td>\n",
       "    </tr>\n",
       "    <tr>\n",
       "      <th>5731</th>\n",
       "      <td>154.12.227.174</td>\n",
       "      <td>POST</td>\n",
       "      <td>/core/.env</td>\n",
       "      <td>HTTP/1.1</td>\n",
       "      <td>404</td>\n",
       "      <td>146</td>\n",
       "      <td>2023-02-19 02:48:08</td>\n",
       "    </tr>\n",
       "    <tr>\n",
       "      <th>5732</th>\n",
       "      <td>154.12.227.174</td>\n",
       "      <td>GET</td>\n",
       "      <td>/core/.env</td>\n",
       "      <td>HTTP/1.1</td>\n",
       "      <td>404</td>\n",
       "      <td>146</td>\n",
       "      <td>2023-02-19 02:48:10</td>\n",
       "    </tr>\n",
       "    <tr>\n",
       "      <th>5733</th>\n",
       "      <td>154.12.227.174</td>\n",
       "      <td>POST</td>\n",
       "      <td>/</td>\n",
       "      <td>HTTP/1.1</td>\n",
       "      <td>405</td>\n",
       "      <td>150</td>\n",
       "      <td>2023-02-19 02:48:12</td>\n",
       "    </tr>\n",
       "    <tr>\n",
       "      <th>5734</th>\n",
       "      <td>154.12.227.174</td>\n",
       "      <td>POST</td>\n",
       "      <td>/core/.env</td>\n",
       "      <td>HTTP/1.1</td>\n",
       "      <td>404</td>\n",
       "      <td>146</td>\n",
       "      <td>2023-02-19 02:48:13</td>\n",
       "    </tr>\n",
       "    <tr>\n",
       "      <th>5735</th>\n",
       "      <td>188.165.87.111</td>\n",
       "      <td>GET</td>\n",
       "      <td>/</td>\n",
       "      <td>HTTP/1.1</td>\n",
       "      <td>200</td>\n",
       "      <td>5952</td>\n",
       "      <td>2023-02-19 03:06:29</td>\n",
       "    </tr>\n",
       "  </tbody>\n",
       "</table>\n",
       "<p>5736 rows × 7 columns</p>\n",
       "</div>"
      ],
      "text/plain": [
       "                 host method                 endpoint  protocol  status  \\\n",
       "0      143.244.50.172    GET  /config/getuser?index=0  HTTP/1.1     400   \n",
       "1      164.90.235.116    GET                        /  HTTP/1.1     200   \n",
       "2       66.249.69.126    GET              /robots.txt  HTTP/1.1     404   \n",
       "3       66.249.69.126    GET  /assets/img/favicon.png  HTTP/1.1     200   \n",
       "4     185.221.219.172    GET             /.git/config  HTTP/1.1     404   \n",
       "...               ...    ...                      ...       ...     ...   \n",
       "5731   154.12.227.174   POST               /core/.env  HTTP/1.1     404   \n",
       "5732   154.12.227.174    GET               /core/.env  HTTP/1.1     404   \n",
       "5733   154.12.227.174   POST                        /  HTTP/1.1     405   \n",
       "5734   154.12.227.174   POST               /core/.env  HTTP/1.1     404   \n",
       "5735   188.165.87.111    GET                        /  HTTP/1.1     200   \n",
       "\n",
       "      content_size                 time  \n",
       "0              248  2023-02-16 03:28:45  \n",
       "1             5952  2023-02-16 04:11:34  \n",
       "2              146  2023-02-16 04:39:52  \n",
       "3              491  2023-02-16 04:39:52  \n",
       "4              548  2023-02-16 05:06:47  \n",
       "...            ...                  ...  \n",
       "5731           146  2023-02-19 02:48:08  \n",
       "5732           146  2023-02-19 02:48:10  \n",
       "5733           150  2023-02-19 02:48:12  \n",
       "5734           146  2023-02-19 02:48:13  \n",
       "5735          5952  2023-02-19 03:06:29  \n",
       "\n",
       "[5736 rows x 7 columns]"
      ]
     },
     "execution_count": 196,
     "metadata": {},
     "output_type": "execute_result"
    }
   ],
   "source": [
    "df.drop('Unnamed: 0',axis=1,inplace=True)\n",
    "df"
   ]
  },
  {
   "cell_type": "markdown",
   "id": "ae591c12-c3f6-4b22-b6fc-b191ebe5a44d",
   "metadata": {},
   "source": [
    "# Conclusion"
   ]
  },
  {
   "cell_type": "code",
   "execution_count": null,
   "id": "cda040f5-c60d-4da5-8ee5-7fbc65d24194",
   "metadata": {},
   "outputs": [],
   "source": []
  },
  {
   "cell_type": "markdown",
   "id": "9130f607-7dde-4f72-aa18-3139d3733c96",
   "metadata": {},
   "source": [
    "# Encoding Columns for predictive analysis"
   ]
  },
  {
   "cell_type": "code",
   "execution_count": 199,
   "id": "cad6a30a-c772-4cfe-8d93-056c5e709277",
   "metadata": {},
   "outputs": [],
   "source": [
    "from sklearn.preprocessing import LabelEncoder\n",
    "label_df=df.apply(LabelEncoder().fit_transform)"
   ]
  },
  {
   "cell_type": "code",
   "execution_count": 202,
   "id": "d04100c2-03e7-412e-b34c-b435cab8c065",
   "metadata": {
    "tags": []
   },
   "outputs": [],
   "source": [
    "label_df.to_csv('log_niginx_labeled.csv')"
   ]
  }
 ],
 "metadata": {
  "kernelspec": {
   "display_name": "Python 3 (ipykernel)",
   "language": "python",
   "name": "python3"
  },
  "language_info": {
   "codemirror_mode": {
    "name": "ipython",
    "version": 3
   },
   "file_extension": ".py",
   "mimetype": "text/x-python",
   "name": "python",
   "nbconvert_exporter": "python",
   "pygments_lexer": "ipython3",
   "version": "3.10.5"
  }
 },
 "nbformat": 4,
 "nbformat_minor": 5
}
