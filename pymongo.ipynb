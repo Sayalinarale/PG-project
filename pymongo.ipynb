{
 "cells": [
  {
   "cell_type": "code",
   "execution_count": 28,
   "id": "a33197bc-7c57-4c0a-8f66-c27a74d27b71",
   "metadata": {},
   "outputs": [],
   "source": [
    "import pymongo\n",
    "import pandas as pd"
   ]
  },
  {
   "cell_type": "code",
   "execution_count": 29,
   "id": "2ce584fc-1e5e-445c-b465-f5a0c27d1471",
   "metadata": {},
   "outputs": [],
   "source": [
    "import json"
   ]
  },
  {
   "cell_type": "code",
   "execution_count": 30,
   "id": "8b23630d-365f-4e4d-bd23-9deef01a525f",
   "metadata": {},
   "outputs": [],
   "source": [
    "client=pymongo.MongoClient(\"mongodb://localhost:27017\")"
   ]
  },
  {
   "cell_type": "code",
   "execution_count": 31,
   "id": "c1fcabae-c34d-40fd-bf2f-1f861dc6ff00",
   "metadata": {},
   "outputs": [],
   "source": [
    "df=pd.read_csv('example.csv')"
   ]
  },
  {
   "cell_type": "code",
   "execution_count": 32,
   "id": "da191be2-72e6-4570-b0bf-e8957b65b7ab",
   "metadata": {},
   "outputs": [
    {
     "name": "stderr",
     "output_type": "stream",
     "text": [
      "C:\\Users\\Admin\\AppData\\Local\\Temp\\ipykernel_3960\\897004921.py:1: FutureWarning: Using short name for 'orient' is deprecated. Only the options: ('dict', list, 'series', 'split', 'records', 'index') will be used in a future version. Use one of the above to silence this warning.\n",
      "  data=df.to_dict(orient='record')\n"
     ]
    }
   ],
   "source": [
    "data=df.to_dict(orient='record')"
   ]
  },
  {
   "cell_type": "code",
   "execution_count": 33,
   "id": "13dd35ff-d089-4e15-9398-3f30956edb91",
   "metadata": {},
   "outputs": [],
   "source": [
    "db=client[\"web_server\"]"
   ]
  },
  {
   "cell_type": "code",
   "execution_count": 34,
   "id": "d307688d-6780-4e8d-b67e-e7586b39ac2d",
   "metadata": {},
   "outputs": [
    {
     "name": "stdout",
     "output_type": "stream",
     "text": [
      "Database(MongoClient(host=['localhost:27017'], document_class=dict, tz_aware=False, connect=True), 'web_server')\n"
     ]
    }
   ],
   "source": [
    "print(db)"
   ]
  },
  {
   "cell_type": "code",
   "execution_count": 35,
   "id": "8ffe7168-6b52-41b8-9506-4d6a6c60c057",
   "metadata": {},
   "outputs": [
    {
     "data": {
      "text/plain": [
       "<pymongo.results.InsertManyResult at 0x1dfff5c75b0>"
      ]
     },
     "execution_count": 35,
     "metadata": {},
     "output_type": "execute_result"
    }
   ],
   "source": [
    "db.web.insert_many(data)"
   ]
  },
  {
   "cell_type": "code",
   "execution_count": null,
   "id": "0afd6ce1-5aa8-49e2-a0e0-947691272b37",
   "metadata": {},
   "outputs": [],
   "source": []
  }
 ],
 "metadata": {
  "kernelspec": {
   "display_name": "Python 3 (ipykernel)",
   "language": "python",
   "name": "python3"
  },
  "language_info": {
   "codemirror_mode": {
    "name": "ipython",
    "version": 3
   },
   "file_extension": ".py",
   "mimetype": "text/x-python",
   "name": "python",
   "nbconvert_exporter": "python",
   "pygments_lexer": "ipython3",
   "version": "3.10.8"
  }
 },
 "nbformat": 4,
 "nbformat_minor": 5
}
